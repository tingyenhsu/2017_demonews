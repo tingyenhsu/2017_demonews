{
 "cells": [
  {
   "cell_type": "markdown",
   "metadata": {},
   "source": [
    "## 連結 mongoDB"
   ]
  },
  {
   "cell_type": "code",
   "execution_count": 1,
   "metadata": {
    "collapsed": false
   },
   "outputs": [],
   "source": [
    "import pymongo  #version:3.4.0\n",
    "from pymongo import MongoClient\n",
    "client = pymongo.MongoClient()\n",
    "# from pymongo import Connection\n",
    "# connection = Connection()#這是在自己的本機建的，所以用connection"
   ]
  },
  {
   "cell_type": "code",
   "execution_count": 2,
   "metadata": {
    "collapsed": false
   },
   "outputs": [
    {
     "data": {
      "text/plain": [
       "[u'comments', u'posts', u'detector_one_by_one', u'user']"
      ]
     },
     "execution_count": 2,
     "metadata": {},
     "output_type": "execute_result"
    }
   ],
   "source": [
    "db = client.Candidate\n",
    "db.collection_names()"
   ]
  },
  {
   "cell_type": "code",
   "execution_count": 3,
   "metadata": {
    "collapsed": true
   },
   "outputs": [],
   "source": [
    "# facebook_id = '46251501064' #Tsai\n",
    "# facebook_page_name = 'Tsai'\n",
    "facebook_id = '136845026417486' #Ke\n",
    "facebook_page_name = 'Ke'\n",
    "# facebook_id = '188311137478' #ChinaTimes \n",
    "# facebook_page_name = 'ChinaTimes'\n",
    "# facebook_id = '241284961029'\n",
    "# facebook_page_name = 'udn' \n",
    "# facebook_id = '394896373929368' \n",
    "# facebook_page_name = 'ltn' \n",
    "# facebook_id = '232633627068' \n",
    "# facebook_page_name = 'AppleDaily'"
   ]
  },
  {
   "cell_type": "markdown",
   "metadata": {},
   "source": [
    "## 標記一篇，剩下自動標記"
   ]
  },
  {
   "cell_type": "code",
   "execution_count": null,
   "metadata": {
    "collapsed": true
   },
   "outputs": [],
   "source": [
    "#蔡英文\n",
    "import string\n",
    "tsai_sup=['女性總統','小英一定要當選','支持蔡总统','蔡總統+U','台灣人民加油','小英健仁一定要凍蒜','小英姐加油','就是愛台灣',\n",
    "          '蔡英文加油','英仁配當選','英仁配一定凍蒜','臺灣一定贏','超越黨派','把國民黨給消滅',\n",
    "          '跳脫藍綠','2號蔡英文與陳建仁','蔡英文總統好','小英當選','回鄉投票','保障臺灣漁民權力',\n",
    "          '總統英明','加油我的總統','高票當選','支持小英','有智慧的領導者','眾望所歸','總統加油',\n",
    "          '支持您','支持你','支持妳','蔡主席加油','台灣加油','DPP完全執政','支持蔡英文',\n",
    "          '國民黨不倒台灣不會好','民進黨加油','敬愛的總統','女領導人','蔡總統謝謝您','做小英後盾',\n",
    "          '我挺小英','新政府請加油','新政府加油','我挺蔡英文','我愛小英','蔡總統加油','英英總統',\n",
    "          '蔡英文總統加油','小英加油','女總統加油','阿英總統加油','蔡總統我支持你','小英總統我支持你',\n",
    "          '英英總統我支持你','尤達大師','蔡英文總統我支持你','女總統我支持你','阿英總統我支持你']\n",
    "tsai_not_sup=['台灣是中國的','金援外交','英雄的祖国','独立','总统府','解放军','被你骗','台湾的民主','军队','中华人民共和国万岁','蔡大妈','爛總統','两岸统一','女版陳水扁','日本鬼子','小日本','有同感的点赞',\n",
    "              '大中华','喪權辱國','我们的教育让我们对你们产生了感情','難向政策','妳無恥的',\n",
    "              '呆湾','湾湾','两岸一家亲','8.2趴的總統','空心蔡','中华民国和台湾','蔡英文八七分',\n",
    "              '臺灣人系蠢材','支那','祖国统一','台湾人乡巴佬','人禽味','弱国无外交','妳跟馬英九一樣',\n",
    "              '蔡英文的功力遠遠超越馬英九','空心','英文的英文','假愛台灣','喪犬','熱愛祖國','熱愛中國',\n",
    "              '日杂绿畜','日畜','岛民思维','亲爱的祖国','狗日的','菜8趴','貼紙建國','老处女','热爱祖国',\n",
    "              '台巴子','欢迎回家','茶叶蛋','不愿做奴隶的人们','罷免總統','罷免你','台独狗','台独分子',\n",
    "              '蔡省长','蔡英文政府倒闭','民進黨太失望','民進黨失望','大陸爸爸','国民党','美国爸爸',\n",
    "              '丢了邦交国','爱我中华','宣布独立','民進黨國民黨化','不想一例一休','擱置爭議','大陆在那头',\n",
    "              '台湾独立','一群猴子','蔡后','真是無恥','轉型正義個屁','菜政府','民粹黨','蔡陰魂',\n",
    "              '爛執政黨','快下台','下台啦','綠腦包','吃人夠夠','官逼民反','國民黨比民進黨更好',\n",
    "              '餿掉的菜','蔡桶','菜桶','軍公教退休','菜老英','砍退休金','菜老板','你表姐',\n",
    "              '總統會當嗎','蔡日狗','蔡英文你要不要臉','自自冉冉','台奸蔡英文','英英美代子',\n",
    "              '白賊英','蔡英文下台','蔡英文爛死了','菜英文','空心菜','祭央乂','武則英','女版馬英九',\n",
    "              '雙面蔡','蔡渣','18趴小英','亡國小英','菜豬']\n",
    "\n",
    "for c in db.clean_comments.find({}):\n",
    "#先找這個使用者有[沒有]在user_2中出現過\n",
    "    if db.user.find({'user_id':c['user_id'].encode('utf-8')}).count()==0:\n",
    "        if any (ts in c['comment'].encode('utf-8').translate(None, string.punctuation) for ts in tsai_sup):\n",
    "            db.user.insert({'user_id':c['user_id'],\n",
    "                          'user_name':c['user_name'],\n",
    "                            'tsai_comment':[c['comment']],\n",
    "                            'tsai_comment_id':[c['comment_id']],\n",
    "                            'sup_page_name':facebook_page_name,\n",
    "                            'sup_page_id':facebook_id,\n",
    "                            'n_sup_page_name':'',\n",
    "                            'n_sup_page_id':'',\n",
    "                            'n_page_name':'',\n",
    "                            'n_page_id':'',\n",
    "                           })\n",
    "\n",
    "\n",
    "#               不然，如果[有]出現不支持裡面的詞\n",
    "        elif any (no in c['comment'].encode('utf-8').translate(None, string.punctuation) for no in tsai_not_sup):\n",
    "            db.user.insert({'user_id':c['user_id'],\n",
    "                           'user_name':c['user_name'],\n",
    "                            'tsai_comment':[c['comment']],\n",
    "                            'tsai_comment_id':[c['comment_id']],\n",
    "                            'sup_page_name':'',\n",
    "                            'sup_page_id':'',\n",
    "                           'n_sup_page_name':facebook_page_name,\n",
    "                            'n_sup_page_id':facebook_id,\n",
    "                            'n_page_name':'',\n",
    "                            'n_page_id':'',\n",
    "                           })\n",
    "\n",
    "\n",
    "        else:\n",
    "            pass \n",
    "\n",
    "    else:#在user中有找到，加上comment跟comment_id\n",
    "        db.user.update({'user_id':c['user_id'].encode('utf-8')},\n",
    "                       {'$push':{\n",
    "                        'tsai_comment_id':[c['comment_id']],\n",
    "                        'tsai_comment':[c['comment']]}})\n",
    "\n",
    "db.user.count()\n",
    "db.update\n",
    "# comments.update()\n",
    "print db.user.count()\n",
    "client.close()\n",
    "# db.posts.find({})"
   ]
  },
  {
   "cell_type": "code",
   "execution_count": 24,
   "metadata": {
    "collapsed": false
   },
   "outputs": [
    {
     "name": "stderr",
     "output_type": "stream",
     "text": [
      "/Users/TingYen/anaconda/lib/python2.7/site-packages/ipykernel/__main__.py:31: DeprecationWarning: insert is deprecated. Use insert_one or insert_many instead.\n",
      "/Users/TingYen/anaconda/lib/python2.7/site-packages/ipykernel/__main__.py:57: DeprecationWarning: update is deprecated. Use replace_one, update_one or update_many instead.\n",
      "/Users/TingYen/anaconda/lib/python2.7/site-packages/ipykernel/__main__.py:46: DeprecationWarning: insert is deprecated. Use insert_one or insert_many instead.\n"
     ]
    },
    {
     "name": "stdout",
     "output_type": "stream",
     "text": [
      "11496\n"
     ]
    }
   ],
   "source": [
    "# 柯文哲 30.9%\n",
    "import string\n",
    "ke_sup=['柯P辛苦了','柯p辛苦了','柯Ｐ辛苦了','醫龍國','台北有你真好','柯大'\n",
    "        '柯P好棒','柯p好棒','柯Ｐ好棒','柯P最棒','柯P讚','柯p讚','柯Ｐ讚','市長好棒',\n",
    "        '謝謝市長','謝謝柯P','謝謝柯p','謝謝柯Ｐ','謝謝柯市長','支持柯','支持市長','支持你連任','連任市長','我們支持你',\n",
    "        '市長連任','連任成功','台北市需要你','柯神','柯阿伯','好市長','愛民如己',\n",
    "        '市長很棒','雙北市長','總統大位','可以選總統嗎拜託','選總統啦','把你送進總統府','把你送去總統府','前進總統府',\n",
    "        '白色力量加油','柯Ｐ加油','柯P加油','柯市長加油','柯p加油','市長加油','加油柯市長','加油柯P','愛柯P','市長加油',\n",
    "       '市府的用心','辛苦了','市長我愛你','加油！柯市長！','柯市長，加油','很棒的市長',\n",
    "       '務實的市長','👍','生日快樂']\n",
    "ke_not_sup=['白痴市長','白癡市長','柯屁','嘴砲','眼高手低','土皇帝','柯皇','柯文哲下臺','柯文哲下台',\n",
    "            '垃圾不分藍綠','柯文哲不要臉','白目的力量','最爛台北市長']\n",
    "\n",
    "#按照user去抓comment標記\n",
    "for u in user_list[0]:\n",
    "    for c in db.comments.find({'user_id':u,'page_name':'Ke','year':{'$gte':2015,'$lte':2017}}):\n",
    "#先找這個使用者有[沒有]在user中出現過\n",
    "        if db.user.find({'user_id':c['user_id'].encode('utf-8')}).count()==0:\n",
    "    #         把標點符號拿掉，看有沒有出現tsai_sup中的詞\n",
    "    #                     [有]的話\n",
    "            if any (ts in c['comment'].encode('utf-8').translate(None, string.punctuation) for ts in ke_sup):\n",
    "                db.user.insert({'user_id':c['user_id'],\n",
    "                              'user_name':c['user_name'],\n",
    "                                'ke_comment':[c['comment']],\n",
    "                                'ke_comment_id':[c['comment_id']],\n",
    "                                'sup_page_name':facebook_page_name,\n",
    "                                'sup_page_id':facebook_id,\n",
    "                                'n_sup_page_name':'',\n",
    "                                'n_sup_page_id':'',\n",
    "                                'n_page_name':'',\n",
    "                                'n_page_id':'',\n",
    "                               })\n",
    "\n",
    "\n",
    "    #               不然，如果[有]出現不支持裡面的詞\n",
    "            elif any (no in c['comment'].encode('utf-8').translate(None, string.punctuation) for no in ke_not_sup):\n",
    "                db.user.insert({'user_id':c['user_id'],\n",
    "                               'user_name':c['user_name'],\n",
    "                                'ke_comment':[c['comment']],\n",
    "                                'ke_comment_id':[c['comment_id']],\n",
    "                                'sup_page_name':'',\n",
    "                                'sup_page_id':'',\n",
    "                               'n_sup_page_name':facebook_page_name,\n",
    "                                'n_sup_page_id':facebook_id,\n",
    "                                'n_page_name':'',\n",
    "                                'n_page_id':'',\n",
    "                               })\n",
    "\n",
    "\n",
    "            else:\n",
    "                pass \n",
    "\n",
    "        else:#在user中有找到，加上comment跟comment_id\n",
    "            db.user.update({'user_id':c['user_id'].encode('utf-8')},\n",
    "                           {'$push':{\n",
    "                            'ke_comment_id':[c['comment_id']],\n",
    "                            'ke_comment':[c['comment']]}})\n",
    "\n",
    "db.user.count()\n",
    "db.update\n",
    "# comments.update()\n",
    "print db.user.count()\n",
    "client.close()\n",
    "# db.posts.find({})"
   ]
  },
  {
   "cell_type": "markdown",
   "metadata": {},
   "source": [
    "## 把重複的找出來"
   ]
  },
  {
   "cell_type": "code",
   "execution_count": 26,
   "metadata": {
    "collapsed": false
   },
   "outputs": [
    {
     "name": "stdout",
     "output_type": "stream",
     "text": [
      "0\n"
     ]
    }
   ],
   "source": [
    "for c in db.user.find({'sup_page_name':'Ke','n_sup_page_name':'Ke'}):\n",
    "    if db.OL.find({'user_id':c['user_id']})==0:\n",
    "        db.OL.insert({\n",
    "            'user_id':c['user_id'],\n",
    "            'ke_comment':c['ke_comment']\n",
    "        })\n",
    "db.OL.count()\n",
    "db.update\n",
    "# comments.update()\n",
    "print db.OL.count()\n",
    "client.close()\n",
    "# db.posts.find({})"
   ]
  },
  {
   "cell_type": "markdown",
   "metadata": {},
   "source": [
    "## 把判斷不出來的comment id 與 comment content寫進去"
   ]
  },
  {
   "cell_type": "code",
   "execution_count": 22,
   "metadata": {
    "collapsed": false
   },
   "outputs": [
    {
     "ename": "KeyboardInterrupt",
     "evalue": "",
     "output_type": "error",
     "traceback": [
      "\u001b[0;31m---------------------------------------------------------------------------\u001b[0m",
      "\u001b[0;31mKeyboardInterrupt\u001b[0m                         Traceback (most recent call last)",
      "\u001b[0;32m<ipython-input-22-ea1f9b3797e6>\u001b[0m in \u001b[0;36m<module>\u001b[0;34m()\u001b[0m\n\u001b[1;32m      3\u001b[0m \u001b[0;32mfor\u001b[0m \u001b[0mu\u001b[0m \u001b[0;32min\u001b[0m \u001b[0muser_list\u001b[0m\u001b[0;34m[\u001b[0m\u001b[0;36m0\u001b[0m\u001b[0;34m]\u001b[0m\u001b[0;34m:\u001b[0m\u001b[0;34m\u001b[0m\u001b[0m\n\u001b[1;32m      4\u001b[0m     \u001b[0;32mif\u001b[0m \u001b[0mdb\u001b[0m\u001b[0;34m.\u001b[0m\u001b[0muser\u001b[0m\u001b[0;34m.\u001b[0m\u001b[0mfind\u001b[0m\u001b[0;34m(\u001b[0m\u001b[0;34m{\u001b[0m\u001b[0;34m'user_id'\u001b[0m\u001b[0;34m:\u001b[0m\u001b[0mu\u001b[0m\u001b[0;34m}\u001b[0m\u001b[0;34m)\u001b[0m\u001b[0;34m.\u001b[0m\u001b[0mcount\u001b[0m\u001b[0;34m(\u001b[0m\u001b[0;34m)\u001b[0m\u001b[0;34m==\u001b[0m\u001b[0;36m0\u001b[0m\u001b[0;34m:\u001b[0m\u001b[0;34m\u001b[0m\u001b[0m\n\u001b[0;32m----> 5\u001b[0;31m         \u001b[0;32mfor\u001b[0m \u001b[0muu\u001b[0m \u001b[0;32min\u001b[0m \u001b[0mdb\u001b[0m\u001b[0;34m.\u001b[0m\u001b[0mcomments\u001b[0m\u001b[0;34m.\u001b[0m\u001b[0mfind\u001b[0m\u001b[0;34m(\u001b[0m\u001b[0;34m{\u001b[0m\u001b[0;34m'page_name'\u001b[0m\u001b[0;34m:\u001b[0m\u001b[0;34m'Ke'\u001b[0m\u001b[0;34m,\u001b[0m\u001b[0;34m'year'\u001b[0m\u001b[0;34m:\u001b[0m\u001b[0;34m{\u001b[0m\u001b[0;34m'$gte'\u001b[0m\u001b[0;34m:\u001b[0m\u001b[0;36m2015\u001b[0m\u001b[0;34m,\u001b[0m\u001b[0;34m'$lte'\u001b[0m\u001b[0;34m:\u001b[0m\u001b[0;36m2017\u001b[0m\u001b[0;34m}\u001b[0m\u001b[0;34m,\u001b[0m\u001b[0;34m'user_id'\u001b[0m\u001b[0;34m:\u001b[0m\u001b[0mu\u001b[0m\u001b[0;34m}\u001b[0m\u001b[0;34m)\u001b[0m\u001b[0;34m:\u001b[0m\u001b[0;34m\u001b[0m\u001b[0m\n\u001b[0m\u001b[1;32m      6\u001b[0m             \u001b[0mfile\u001b[0m\u001b[0;34m.\u001b[0m\u001b[0mwrite\u001b[0m\u001b[0;34m(\u001b[0m\u001b[0muu\u001b[0m\u001b[0;34m[\u001b[0m\u001b[0;34m'user_id'\u001b[0m\u001b[0;34m]\u001b[0m\u001b[0;34m.\u001b[0m\u001b[0mencode\u001b[0m\u001b[0;34m(\u001b[0m\u001b[0;34m'utf-8'\u001b[0m\u001b[0;34m)\u001b[0m\u001b[0;34m+\u001b[0m\u001b[0;34m','\u001b[0m\u001b[0;34m)\u001b[0m\u001b[0;34m\u001b[0m\u001b[0m\n\u001b[1;32m      7\u001b[0m \u001b[0;34m\u001b[0m\u001b[0m\n",
      "\u001b[0;32m/Users/TingYen/anaconda/lib/python2.7/site-packages/pymongo/cursor.pyc\u001b[0m in \u001b[0;36mnext\u001b[0;34m(self)\u001b[0m\n\u001b[1;32m   1112\u001b[0m             \u001b[0;32mraise\u001b[0m \u001b[0mStopIteration\u001b[0m\u001b[0;34m\u001b[0m\u001b[0m\n\u001b[1;32m   1113\u001b[0m         \u001b[0m_db\u001b[0m \u001b[0;34m=\u001b[0m \u001b[0mself\u001b[0m\u001b[0;34m.\u001b[0m\u001b[0m__collection\u001b[0m\u001b[0;34m.\u001b[0m\u001b[0mdatabase\u001b[0m\u001b[0;34m\u001b[0m\u001b[0m\n\u001b[0;32m-> 1114\u001b[0;31m         \u001b[0;32mif\u001b[0m \u001b[0mlen\u001b[0m\u001b[0;34m(\u001b[0m\u001b[0mself\u001b[0m\u001b[0;34m.\u001b[0m\u001b[0m__data\u001b[0m\u001b[0;34m)\u001b[0m \u001b[0;32mor\u001b[0m \u001b[0mself\u001b[0m\u001b[0;34m.\u001b[0m\u001b[0m_refresh\u001b[0m\u001b[0;34m(\u001b[0m\u001b[0;34m)\u001b[0m\u001b[0;34m:\u001b[0m\u001b[0;34m\u001b[0m\u001b[0m\n\u001b[0m\u001b[1;32m   1115\u001b[0m             \u001b[0;32mif\u001b[0m \u001b[0mself\u001b[0m\u001b[0;34m.\u001b[0m\u001b[0m__manipulate\u001b[0m\u001b[0;34m:\u001b[0m\u001b[0;34m\u001b[0m\u001b[0m\n\u001b[1;32m   1116\u001b[0m                 return _db._fix_outgoing(self.__data.popleft(),\n",
      "\u001b[0;32m/Users/TingYen/anaconda/lib/python2.7/site-packages/pymongo/cursor.pyc\u001b[0m in \u001b[0;36m_refresh\u001b[0;34m(self)\u001b[0m\n\u001b[1;32m   1034\u001b[0m                                        \u001b[0mself\u001b[0m\u001b[0;34m.\u001b[0m\u001b[0m__batch_size\u001b[0m\u001b[0;34m,\u001b[0m\u001b[0;34m\u001b[0m\u001b[0m\n\u001b[1;32m   1035\u001b[0m                                        \u001b[0mself\u001b[0m\u001b[0;34m.\u001b[0m\u001b[0m__read_concern\u001b[0m\u001b[0;34m,\u001b[0m\u001b[0;34m\u001b[0m\u001b[0m\n\u001b[0;32m-> 1036\u001b[0;31m                                        self.__collation))\n\u001b[0m\u001b[1;32m   1037\u001b[0m             \u001b[0;32mif\u001b[0m \u001b[0;32mnot\u001b[0m \u001b[0mself\u001b[0m\u001b[0;34m.\u001b[0m\u001b[0m__id\u001b[0m\u001b[0;34m:\u001b[0m\u001b[0;34m\u001b[0m\u001b[0m\n\u001b[1;32m   1038\u001b[0m                 \u001b[0mself\u001b[0m\u001b[0;34m.\u001b[0m\u001b[0m__killed\u001b[0m \u001b[0;34m=\u001b[0m \u001b[0mTrue\u001b[0m\u001b[0;34m\u001b[0m\u001b[0m\n",
      "\u001b[0;32m/Users/TingYen/anaconda/lib/python2.7/site-packages/pymongo/cursor.pyc\u001b[0m in \u001b[0;36m__send_message\u001b[0;34m(self, operation)\u001b[0m\n\u001b[1;32m    871\u001b[0m             \u001b[0;32mtry\u001b[0m\u001b[0;34m:\u001b[0m\u001b[0;34m\u001b[0m\u001b[0m\n\u001b[1;32m    872\u001b[0m                 response = client._send_message_with_response(operation,\n\u001b[0;32m--> 873\u001b[0;31m                                                               **kwargs)\n\u001b[0m\u001b[1;32m    874\u001b[0m                 \u001b[0mself\u001b[0m\u001b[0;34m.\u001b[0m\u001b[0m__address\u001b[0m \u001b[0;34m=\u001b[0m \u001b[0mresponse\u001b[0m\u001b[0;34m.\u001b[0m\u001b[0maddress\u001b[0m\u001b[0;34m\u001b[0m\u001b[0m\n\u001b[1;32m    875\u001b[0m                 \u001b[0;32mif\u001b[0m \u001b[0mself\u001b[0m\u001b[0;34m.\u001b[0m\u001b[0m__exhaust\u001b[0m\u001b[0;34m:\u001b[0m\u001b[0;34m\u001b[0m\u001b[0m\n",
      "\u001b[0;32m/Users/TingYen/anaconda/lib/python2.7/site-packages/pymongo/mongo_client.pyc\u001b[0m in \u001b[0;36m_send_message_with_response\u001b[0;34m(self, operation, read_preference, exhaust, address)\u001b[0m\n\u001b[1;32m    903\u001b[0m             \u001b[0mself\u001b[0m\u001b[0;34m.\u001b[0m\u001b[0m__all_credentials\u001b[0m\u001b[0;34m,\u001b[0m\u001b[0;34m\u001b[0m\u001b[0m\n\u001b[1;32m    904\u001b[0m             \u001b[0mself\u001b[0m\u001b[0;34m.\u001b[0m\u001b[0m_event_listeners\u001b[0m\u001b[0;34m,\u001b[0m\u001b[0;34m\u001b[0m\u001b[0m\n\u001b[0;32m--> 905\u001b[0;31m             exhaust)\n\u001b[0m\u001b[1;32m    906\u001b[0m \u001b[0;34m\u001b[0m\u001b[0m\n\u001b[1;32m    907\u001b[0m     \u001b[0;32mdef\u001b[0m \u001b[0m_reset_on_error\u001b[0m\u001b[0;34m(\u001b[0m\u001b[0mself\u001b[0m\u001b[0;34m,\u001b[0m \u001b[0mserver\u001b[0m\u001b[0;34m,\u001b[0m \u001b[0mfunc\u001b[0m\u001b[0;34m,\u001b[0m \u001b[0;34m*\u001b[0m\u001b[0margs\u001b[0m\u001b[0;34m,\u001b[0m \u001b[0;34m**\u001b[0m\u001b[0mkwargs\u001b[0m\u001b[0;34m)\u001b[0m\u001b[0;34m:\u001b[0m\u001b[0;34m\u001b[0m\u001b[0m\n",
      "\u001b[0;32m/Users/TingYen/anaconda/lib/python2.7/site-packages/pymongo/mongo_client.pyc\u001b[0m in \u001b[0;36m_reset_on_error\u001b[0;34m(self, server, func, *args, **kwargs)\u001b[0m\n\u001b[1;32m    914\u001b[0m         \"\"\"\n\u001b[1;32m    915\u001b[0m         \u001b[0;32mtry\u001b[0m\u001b[0;34m:\u001b[0m\u001b[0;34m\u001b[0m\u001b[0m\n\u001b[0;32m--> 916\u001b[0;31m             \u001b[0;32mreturn\u001b[0m \u001b[0mfunc\u001b[0m\u001b[0;34m(\u001b[0m\u001b[0;34m*\u001b[0m\u001b[0margs\u001b[0m\u001b[0;34m,\u001b[0m \u001b[0;34m**\u001b[0m\u001b[0mkwargs\u001b[0m\u001b[0;34m)\u001b[0m\u001b[0;34m\u001b[0m\u001b[0m\n\u001b[0m\u001b[1;32m    917\u001b[0m         \u001b[0;32mexcept\u001b[0m \u001b[0mNetworkTimeout\u001b[0m\u001b[0;34m:\u001b[0m\u001b[0;34m\u001b[0m\u001b[0m\n\u001b[1;32m    918\u001b[0m             \u001b[0;31m# The socket has been closed. Don't reset the server.\u001b[0m\u001b[0;34m\u001b[0m\u001b[0;34m\u001b[0m\u001b[0m\n",
      "\u001b[0;32m/Users/TingYen/anaconda/lib/python2.7/site-packages/pymongo/server.pyc\u001b[0m in \u001b[0;36msend_message_with_response\u001b[0;34m(self, operation, set_slave_okay, all_credentials, listeners, exhaust)\u001b[0m\n\u001b[1;32m    134\u001b[0m             \u001b[0;32mtry\u001b[0m\u001b[0;34m:\u001b[0m\u001b[0;34m\u001b[0m\u001b[0m\n\u001b[1;32m    135\u001b[0m                 \u001b[0msock_info\u001b[0m\u001b[0;34m.\u001b[0m\u001b[0msend_message\u001b[0m\u001b[0;34m(\u001b[0m\u001b[0mdata\u001b[0m\u001b[0;34m,\u001b[0m \u001b[0mmax_doc_size\u001b[0m\u001b[0;34m)\u001b[0m\u001b[0;34m\u001b[0m\u001b[0m\n\u001b[0;32m--> 136\u001b[0;31m                 \u001b[0mresponse_data\u001b[0m \u001b[0;34m=\u001b[0m \u001b[0msock_info\u001b[0m\u001b[0;34m.\u001b[0m\u001b[0mreceive_message\u001b[0m\u001b[0;34m(\u001b[0m\u001b[0;36m1\u001b[0m\u001b[0;34m,\u001b[0m \u001b[0mrequest_id\u001b[0m\u001b[0;34m)\u001b[0m\u001b[0;34m\u001b[0m\u001b[0m\n\u001b[0m\u001b[1;32m    137\u001b[0m             \u001b[0;32mexcept\u001b[0m \u001b[0mException\u001b[0m \u001b[0;32mas\u001b[0m \u001b[0mexc\u001b[0m\u001b[0;34m:\u001b[0m\u001b[0;34m\u001b[0m\u001b[0m\n\u001b[1;32m    138\u001b[0m                 \u001b[0;32mif\u001b[0m \u001b[0mpublish\u001b[0m\u001b[0;34m:\u001b[0m\u001b[0;34m\u001b[0m\u001b[0m\n",
      "\u001b[0;32m/Users/TingYen/anaconda/lib/python2.7/site-packages/pymongo/pool.pyc\u001b[0m in \u001b[0;36mreceive_message\u001b[0;34m(self, operation, request_id)\u001b[0m\n\u001b[1;32m    450\u001b[0m                 self.sock, operation, request_id, self.max_message_size)\n\u001b[1;32m    451\u001b[0m         \u001b[0;32mexcept\u001b[0m \u001b[0mBaseException\u001b[0m \u001b[0;32mas\u001b[0m \u001b[0merror\u001b[0m\u001b[0;34m:\u001b[0m\u001b[0;34m\u001b[0m\u001b[0m\n\u001b[0;32m--> 452\u001b[0;31m             \u001b[0mself\u001b[0m\u001b[0;34m.\u001b[0m\u001b[0m_raise_connection_failure\u001b[0m\u001b[0;34m(\u001b[0m\u001b[0merror\u001b[0m\u001b[0;34m)\u001b[0m\u001b[0;34m\u001b[0m\u001b[0m\n\u001b[0m\u001b[1;32m    453\u001b[0m \u001b[0;34m\u001b[0m\u001b[0m\n\u001b[1;32m    454\u001b[0m     \u001b[0;32mdef\u001b[0m \u001b[0mlegacy_write\u001b[0m\u001b[0;34m(\u001b[0m\u001b[0mself\u001b[0m\u001b[0;34m,\u001b[0m \u001b[0mrequest_id\u001b[0m\u001b[0;34m,\u001b[0m \u001b[0mmsg\u001b[0m\u001b[0;34m,\u001b[0m \u001b[0mmax_doc_size\u001b[0m\u001b[0;34m,\u001b[0m \u001b[0mwith_last_error\u001b[0m\u001b[0;34m)\u001b[0m\u001b[0;34m:\u001b[0m\u001b[0;34m\u001b[0m\u001b[0m\n",
      "\u001b[0;32m/Users/TingYen/anaconda/lib/python2.7/site-packages/pymongo/pool.pyc\u001b[0m in \u001b[0;36m_raise_connection_failure\u001b[0;34m(self, error)\u001b[0m\n\u001b[1;32m    550\u001b[0m             \u001b[0m_raise_connection_failure\u001b[0m\u001b[0;34m(\u001b[0m\u001b[0mself\u001b[0m\u001b[0;34m.\u001b[0m\u001b[0maddress\u001b[0m\u001b[0;34m,\u001b[0m \u001b[0merror\u001b[0m\u001b[0;34m)\u001b[0m\u001b[0;34m\u001b[0m\u001b[0m\n\u001b[1;32m    551\u001b[0m         \u001b[0;32melse\u001b[0m\u001b[0;34m:\u001b[0m\u001b[0;34m\u001b[0m\u001b[0m\n\u001b[0;32m--> 552\u001b[0;31m             \u001b[0;32mraise\u001b[0m \u001b[0merror\u001b[0m\u001b[0;34m\u001b[0m\u001b[0m\n\u001b[0m\u001b[1;32m    553\u001b[0m \u001b[0;34m\u001b[0m\u001b[0m\n\u001b[1;32m    554\u001b[0m     \u001b[0;32mdef\u001b[0m \u001b[0m__eq__\u001b[0m\u001b[0;34m(\u001b[0m\u001b[0mself\u001b[0m\u001b[0;34m,\u001b[0m \u001b[0mother\u001b[0m\u001b[0;34m)\u001b[0m\u001b[0;34m:\u001b[0m\u001b[0;34m\u001b[0m\u001b[0m\n",
      "\u001b[0;31mKeyboardInterrupt\u001b[0m: "
     ]
    }
   ],
   "source": [
    "#做comment id檔，把判斷不出來的id寫進去\n",
    "file = open('net_id_Ke.txt','w') \n",
    "for u in user_list[0]:\n",
    "    if db.user.find({'user_id':u}).count()==0:\n",
    "        for uu in db.comments.find({'page_name':'Ke','year':{'$gte':2015,'$lte':2017},'user_id':u}):\n",
    "            file.write(uu['user_id'].encode('utf-8')+',') \n",
    "\n",
    "file.close() "
   ]
  },
  {
   "cell_type": "code",
   "execution_count": 27,
   "metadata": {
    "collapsed": false
   },
   "outputs": [],
   "source": [
    "#做comment文字檔\n",
    "file = open('net_Ke.txt','w') \n",
    "for u in user_list[0]:\n",
    "    if db.user.find({'user_id':u}).count()==0:\n",
    "        for uu in db.comments.find({'page_name':'Ke','year':{'$gte':2015,'$lte':2017},'user_id':u}):\n",
    "            file.write(uu['comment'].encode('utf-8')+'\\n') \n",
    "\n",
    "file.close() "
   ]
  },
  {
   "cell_type": "markdown",
   "metadata": {},
   "source": [
    "## 把reaction寫進去（包含按讚部隊）"
   ]
  },
  {
   "cell_type": "code",
   "execution_count": 21,
   "metadata": {
    "collapsed": false
   },
   "outputs": [
    {
     "ename": "CursorNotFound",
     "evalue": "cursor id '16598165436' not valid at server",
     "output_type": "error",
     "traceback": [
      "\u001b[0;31m---------------------------------------------------------------------------\u001b[0m",
      "\u001b[0;31mCursorNotFound\u001b[0m                            Traceback (most recent call last)",
      "\u001b[0;32m<ipython-input-21-837c4710dbb8>\u001b[0m in \u001b[0;36m<module>\u001b[0;34m()\u001b[0m\n\u001b[1;32m      1\u001b[0m \u001b[0;31m# 把reactions寫進去\u001b[0m\u001b[0;34m\u001b[0m\u001b[0;34m\u001b[0m\u001b[0m\n\u001b[0;32m----> 2\u001b[0;31m \u001b[0;32mfor\u001b[0m \u001b[0mc\u001b[0m \u001b[0;32min\u001b[0m \u001b[0mdb\u001b[0m\u001b[0;34m.\u001b[0m\u001b[0mcomments\u001b[0m\u001b[0;34m.\u001b[0m\u001b[0mfind\u001b[0m\u001b[0;34m(\u001b[0m\u001b[0;34m{\u001b[0m\u001b[0;34m'page_name'\u001b[0m\u001b[0;34m:\u001b[0m\u001b[0;34m'Tsai'\u001b[0m\u001b[0;34m,\u001b[0m\u001b[0;34m'year'\u001b[0m\u001b[0;34m:\u001b[0m\u001b[0;34m{\u001b[0m\u001b[0;34m'$gte'\u001b[0m\u001b[0;34m:\u001b[0m\u001b[0;36m2015\u001b[0m\u001b[0;34m,\u001b[0m\u001b[0;34m'$lte'\u001b[0m\u001b[0;34m:\u001b[0m\u001b[0;36m2017\u001b[0m\u001b[0;34m}\u001b[0m\u001b[0;34m}\u001b[0m\u001b[0;34m)\u001b[0m\u001b[0;34m:\u001b[0m\u001b[0;34m\u001b[0m\u001b[0m\n\u001b[0m\u001b[1;32m      3\u001b[0m     \u001b[0;32mfor\u001b[0m \u001b[0mrea\u001b[0m \u001b[0;32min\u001b[0m \u001b[0mdb\u001b[0m\u001b[0;34m.\u001b[0m\u001b[0mreactions\u001b[0m\u001b[0;34m.\u001b[0m\u001b[0mfind\u001b[0m\u001b[0;34m(\u001b[0m\u001b[0;34m{\u001b[0m\u001b[0;34m'Post_ID'\u001b[0m\u001b[0;34m:\u001b[0m\u001b[0mfacebook_id\u001b[0m\u001b[0;34m+\u001b[0m\u001b[0;34m'_'\u001b[0m\u001b[0;34m+\u001b[0m\u001b[0mc\u001b[0m\u001b[0;34m[\u001b[0m\u001b[0;34m'post_id'\u001b[0m\u001b[0;34m]\u001b[0m\u001b[0;34m}\u001b[0m\u001b[0;34m)\u001b[0m\u001b[0;34m:\u001b[0m\u001b[0;34m\u001b[0m\u001b[0m\n\u001b[1;32m      4\u001b[0m         \u001b[0;32mfor\u001b[0m \u001b[0mu\u001b[0m \u001b[0;32min\u001b[0m \u001b[0mrea\u001b[0m\u001b[0;34m[\u001b[0m\u001b[0;34mu'LOVE'\u001b[0m\u001b[0;34m]\u001b[0m\u001b[0;34m:\u001b[0m\u001b[0;34m\u001b[0m\u001b[0m\n\u001b[1;32m      5\u001b[0m             \u001b[0;32mif\u001b[0m \u001b[0mdb\u001b[0m\u001b[0;34m.\u001b[0m\u001b[0muser\u001b[0m\u001b[0;34m.\u001b[0m\u001b[0mfind\u001b[0m\u001b[0;34m(\u001b[0m\u001b[0;34m{\u001b[0m\u001b[0;34m'user_id'\u001b[0m\u001b[0;34m:\u001b[0m\u001b[0mu\u001b[0m\u001b[0;34m}\u001b[0m\u001b[0;34m)\u001b[0m\u001b[0;34m.\u001b[0m\u001b[0mcount\u001b[0m\u001b[0;34m(\u001b[0m\u001b[0;34m)\u001b[0m\u001b[0;34m!=\u001b[0m\u001b[0;36m0\u001b[0m\u001b[0;34m:\u001b[0m\u001b[0;34m\u001b[0m\u001b[0m\n",
      "\u001b[0;32m/Users/Tingyen/Library/Enthought/Canopy_64bit/User/lib/python2.7/site-packages/pymongo/cursor.pyc\u001b[0m in \u001b[0;36mnext\u001b[0;34m(self)\u001b[0m\n\u001b[1;32m   1074\u001b[0m             \u001b[0;32mraise\u001b[0m \u001b[0mStopIteration\u001b[0m\u001b[0;34m\u001b[0m\u001b[0m\n\u001b[1;32m   1075\u001b[0m         \u001b[0mdb\u001b[0m \u001b[0;34m=\u001b[0m \u001b[0mself\u001b[0m\u001b[0;34m.\u001b[0m\u001b[0m__collection\u001b[0m\u001b[0;34m.\u001b[0m\u001b[0mdatabase\u001b[0m\u001b[0;34m\u001b[0m\u001b[0m\n\u001b[0;32m-> 1076\u001b[0;31m         \u001b[0;32mif\u001b[0m \u001b[0mlen\u001b[0m\u001b[0;34m(\u001b[0m\u001b[0mself\u001b[0m\u001b[0;34m.\u001b[0m\u001b[0m__data\u001b[0m\u001b[0;34m)\u001b[0m \u001b[0;32mor\u001b[0m \u001b[0mself\u001b[0m\u001b[0;34m.\u001b[0m\u001b[0m_refresh\u001b[0m\u001b[0;34m(\u001b[0m\u001b[0;34m)\u001b[0m\u001b[0;34m:\u001b[0m\u001b[0;34m\u001b[0m\u001b[0m\n\u001b[0m\u001b[1;32m   1077\u001b[0m             \u001b[0;32mif\u001b[0m \u001b[0mself\u001b[0m\u001b[0;34m.\u001b[0m\u001b[0m__manipulate\u001b[0m\u001b[0;34m:\u001b[0m\u001b[0;34m\u001b[0m\u001b[0m\n\u001b[1;32m   1078\u001b[0m                 return db._fix_outgoing(self.__data.popleft(),\n",
      "\u001b[0;32m/Users/Tingyen/Library/Enthought/Canopy_64bit/User/lib/python2.7/site-packages/pymongo/cursor.pyc\u001b[0m in \u001b[0;36m_refresh\u001b[0;34m(self)\u001b[0m\n\u001b[1;32m   1035\u001b[0m                 self.__send_message(\n\u001b[1;32m   1036\u001b[0m                     message.get_more(self.__collection.full_name,\n\u001b[0;32m-> 1037\u001b[0;31m                                      limit, self.__id))\n\u001b[0m\u001b[1;32m   1038\u001b[0m \u001b[0;34m\u001b[0m\u001b[0m\n\u001b[1;32m   1039\u001b[0m         \u001b[0;32melse\u001b[0m\u001b[0;34m:\u001b[0m  \u001b[0;31m# Cursor id is zero nothing else to return\u001b[0m\u001b[0;34m\u001b[0m\u001b[0m\n",
      "\u001b[0;32m/Users/Tingyen/Library/Enthought/Canopy_64bit/User/lib/python2.7/site-packages/pymongo/cursor.pyc\u001b[0m in \u001b[0;36m__send_message\u001b[0;34m(self, message)\u001b[0m\n\u001b[1;32m    956\u001b[0m                                                 \u001b[0mself\u001b[0m\u001b[0;34m.\u001b[0m\u001b[0m__tz_aware\u001b[0m\u001b[0;34m,\u001b[0m\u001b[0;34m\u001b[0m\u001b[0m\n\u001b[1;32m    957\u001b[0m                                                 \u001b[0mself\u001b[0m\u001b[0;34m.\u001b[0m\u001b[0m__uuid_subtype\u001b[0m\u001b[0;34m,\u001b[0m\u001b[0;34m\u001b[0m\u001b[0m\n\u001b[0;32m--> 958\u001b[0;31m                                                 self.__compile_re)\n\u001b[0m\u001b[1;32m    959\u001b[0m         \u001b[0;32mexcept\u001b[0m \u001b[0mOperationFailure\u001b[0m\u001b[0;34m:\u001b[0m\u001b[0;34m\u001b[0m\u001b[0m\n\u001b[1;32m    960\u001b[0m             \u001b[0mself\u001b[0m\u001b[0;34m.\u001b[0m\u001b[0m__killed\u001b[0m \u001b[0;34m=\u001b[0m \u001b[0mTrue\u001b[0m\u001b[0;34m\u001b[0m\u001b[0m\n",
      "\u001b[0;32m/Users/Tingyen/Library/Enthought/Canopy_64bit/User/lib/python2.7/site-packages/pymongo/helpers.pyc\u001b[0m in \u001b[0;36m_unpack_response\u001b[0;34m(response, cursor_id, as_class, tz_aware, uuid_subtype, compile_re)\u001b[0m\n\u001b[1;32m     99\u001b[0m \u001b[0;34m\u001b[0m\u001b[0m\n\u001b[1;32m    100\u001b[0m         raise CursorNotFound(\"cursor id '%s' not valid at server\" %\n\u001b[0;32m--> 101\u001b[0;31m                              cursor_id)\n\u001b[0m\u001b[1;32m    102\u001b[0m     \u001b[0;32melif\u001b[0m \u001b[0mresponse_flag\u001b[0m \u001b[0;34m&\u001b[0m \u001b[0;36m2\u001b[0m\u001b[0;34m:\u001b[0m\u001b[0;34m\u001b[0m\u001b[0m\n\u001b[1;32m    103\u001b[0m         \u001b[0merror_object\u001b[0m \u001b[0;34m=\u001b[0m \u001b[0mbson\u001b[0m\u001b[0;34m.\u001b[0m\u001b[0mBSON\u001b[0m\u001b[0;34m(\u001b[0m\u001b[0mresponse\u001b[0m\u001b[0;34m[\u001b[0m\u001b[0;36m20\u001b[0m\u001b[0;34m:\u001b[0m\u001b[0;34m]\u001b[0m\u001b[0;34m)\u001b[0m\u001b[0;34m.\u001b[0m\u001b[0mdecode\u001b[0m\u001b[0;34m(\u001b[0m\u001b[0;34m)\u001b[0m\u001b[0;34m\u001b[0m\u001b[0m\n",
      "\u001b[0;31mCursorNotFound\u001b[0m: cursor id '16598165436' not valid at server"
     ]
    }
   ],
   "source": [
    "# 寫太久了會斷掉\n",
    "# 把reactions寫進去\n",
    "for c in db.comments.find({'page_name':'Tsai','year':{'$gte':2015,'$lte':2017}}):\n",
    "    for rea in db.reactions.find({'Post_ID':facebook_id+'_'+c['post_id']}):\n",
    "        for u in rea[u'LOVE']:\n",
    "            if db.user.find({'user_id':u}).count()!=0:\n",
    "                db.user.update({'user_id':c['user_id'].encode('utf-8')},\n",
    "                   {'$push':{\n",
    "                    'LOVE':1}})\n",
    "            else:\n",
    "                db.user.insert({'user_id':u,\n",
    "                                  'LOVE':1})\n",
    "                \n",
    "        for u in rea[u'ANGRY']:\n",
    "            if db.user.find({'user_id':u}).count()!=0:\n",
    "                db.user.update({'user_id':c['user_id'].encode('utf-8')},\n",
    "                   {'$push':{\n",
    "                    'ANGRY':1}})\n",
    "            else:\n",
    "                db.user.insert({'user_id':u,\n",
    "                                  'ANGRY':1})\n",
    "\n",
    "        for u in rea[u'HAHA']:\n",
    "            if db.user.find({'user_id':u}).count()!=0:\n",
    "                db.user.update({'user_id':c['user_id'].encode('utf-8')},\n",
    "                   {'$push':{\n",
    "                    'HAHA':1}})\n",
    "            else:\n",
    "                db.user.insert({'user_id':u,\n",
    "                                  'HAHA':1})\n",
    "        \n",
    "        for u in rea[u'LIKE']:\n",
    "            if db.user.find({'user_id':u}).count()!=0:\n",
    "                db.user.update({'user_id':c['user_id'].encode('utf-8')},\n",
    "                   {'$push':{\n",
    "                    'LIKE':1}})\n",
    "            else:\n",
    "                db.user.insert({'user_id':u,\n",
    "                                  'LIKE':1})\n",
    "                \n",
    "        for u in rea[u'SAD']:\n",
    "            if db.user.find({'user_id':u}).count()!=0:\n",
    "                db.user.update({'user_id':c['user_id'].encode('utf-8')},\n",
    "                   {'$push':{\n",
    "                    'SAD':1}})\n",
    "            else:\n",
    "                db.user.insert({'user_id':u,\n",
    "                                  'SAD':1})\n",
    "                \n",
    "        for u in rea[u'WOW']:\n",
    "            if db.user.find({'user_id':u}).count()!=0:\n",
    "                db.user.update({'user_id':c['user_id'].encode('utf-8')},\n",
    "                   {'$push':{\n",
    "                    'WOW':1}})\n",
    "            else:\n",
    "                db.user.insert({'user_id':u,\n",
    "                                  'WOW':1})\n",
    "\n",
    "db.user.count()\n",
    "db.update\n",
    "        "
   ]
  },
  {
   "cell_type": "code",
   "execution_count": null,
   "metadata": {
    "collapsed": true
   },
   "outputs": [],
   "source": []
  }
 ],
 "metadata": {
  "kernelspec": {
   "display_name": "Python 2",
   "language": "python",
   "name": "python2"
  },
  "language_info": {
   "codemirror_mode": {
    "name": "ipython",
    "version": 2
   },
   "file_extension": ".py",
   "mimetype": "text/x-python",
   "name": "python",
   "nbconvert_exporter": "python",
   "pygments_lexer": "ipython2",
   "version": "2.7.9"
  }
 },
 "nbformat": 4,
 "nbformat_minor": 2
}
