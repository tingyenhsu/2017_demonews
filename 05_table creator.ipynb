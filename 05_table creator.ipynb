{
 "cells": [
  {
   "cell_type": "code",
   "execution_count": 117,
   "metadata": {
    "collapsed": true
   },
   "outputs": [],
   "source": [
    "import pymongo\n",
    "from pymongo import MongoClient\n",
    "client = MongoClient()\n",
    "from pymongo import Connection\n",
    "connection = Connection()#這是在自己的本機建的，所以用connection"
   ]
  },
  {
   "cell_type": "code",
   "execution_count": 118,
   "metadata": {
    "collapsed": false
   },
   "outputs": [
    {
     "data": {
      "text/plain": [
       "[u'comments',\n",
       " u'posts',\n",
       " u'reactions',\n",
       " u'detector_one_by_one',\n",
       " u'user_2',\n",
       " u'user_3']"
      ]
     },
     "execution_count": 118,
     "metadata": {},
     "output_type": "execute_result"
    }
   ],
   "source": [
    "db = connection['Candidate']\n",
    "db.collection_names(include_system_collections=False) #listing all of the collections in our database\n",
    "# collection = db['comments']"
   ]
  },
  {
   "cell_type": "code",
   "execution_count": 119,
   "metadata": {
    "collapsed": false
   },
   "outputs": [
    {
     "name": "stdout",
     "output_type": "stream",
     "text": [
      "786\n"
     ]
    }
   ],
   "source": [
    "# 匯入在2015-2017年間留言多於一則以上的使用者名單\n",
    "file = open('post_id.txt', 'r') \n",
    "post_list = []\n",
    "userfile = file.read()\n",
    "# print userfile.split(',')[0]\n",
    "post_list.append(userfile.split(','))\n",
    "print len(post_list[0])"
   ]
  },
  {
   "cell_type": "code",
   "execution_count": 120,
   "metadata": {
    "collapsed": true
   },
   "outputs": [],
   "source": [
    "import numpy as np\n",
    "import pandas as pd"
   ]
  },
  {
   "cell_type": "code",
   "execution_count": null,
   "metadata": {
    "collapsed": true
   },
   "outputs": [],
   "source": [
    "d = {'one' : pd.Series([1., 2., 3.], index=['a', 'b', 'c']),\n",
    "     'two' : pd.Series([1., 2., 3., 4.], index=['a', 'b', 'c', 'd'])}"
   ]
  },
  {
   "cell_type": "code",
   "execution_count": 116,
   "metadata": {
    "collapsed": false
   },
   "outputs": [],
   "source": [
    "s = {'reactions':pd.Series(reactions.values(), index=reactions.keys()),\n",
    "     'sup':pd.Series(table.values(), index= table.keys())}\n",
    "# s\n",
    "t = pandas.DataFrame(s)\n",
    "t\n",
    "t.to_csv('user_form.csv', sep=',')"
   ]
  },
  {
   "cell_type": "code",
   "execution_count": 123,
   "metadata": {
    "collapsed": false
   },
   "outputs": [
    {
     "name": "stdout",
     "output_type": "stream",
     "text": [
      "62161\n"
     ]
    }
   ],
   "source": [
    "print len(table)"
   ]
  },
  {
   "cell_type": "code",
   "execution_count": 122,
   "metadata": {
    "collapsed": false
   },
   "outputs": [],
   "source": [
    "table = {}\n",
    "for u in db.user_2.find({}):\n",
    "    try:\n",
    "        if not table.has_key(u['user_id']):\n",
    "            table[u['user_id']]={}\n",
    "            table[u['user_id']]['count']=len(u['tsai_comment_id'])\n",
    "            if len(u['sup_page_id'])!=0:\n",
    "                table[u['user_id']]['sup']=1\n",
    "                table[u['user_id']]['neg']=0\n",
    "            else:\n",
    "                table[u['user_id']]['sup']=0\n",
    "                table[u['user_id']]['neg']=1\n",
    "        else:\n",
    "            table[u['user_id']]['count']=0\n",
    "    except:\n",
    "        pass\n"
   ]
  },
  {
   "cell_type": "code",
   "execution_count": null,
   "metadata": {
    "collapsed": true
   },
   "outputs": [],
   "source": [
    "pd.DataFrame(d.items())\n",
    "pd.DataFrame(d.items(), columns=['Date', 'DateValue'])"
   ]
  },
  {
   "cell_type": "code",
   "execution_count": 121,
   "metadata": {
    "collapsed": false
   },
   "outputs": [],
   "source": [
    "\n",
    "# reactions=[]\n",
    "rea_l = ['LOVE','ANGRY','HAHA','LIKE','SAD','WOW']\n",
    "reactions = {}\n",
    "\n",
    "\n",
    "for u in db.user_2.find({}):\n",
    "#     user_id.append(u['user_id'])\n",
    "#     try:\n",
    "#         count.append(len(u['tsai_comment_id']))\n",
    "#     except:\n",
    "#         count.append(0)\n",
    "#     try:\n",
    "#         if len(u['sup_page_id'])!=0:\n",
    "#             sup.append(1)\n",
    "#             neg.append(0)\n",
    "#         else:\n",
    "#             sup.append(0)\n",
    "#             neg.append(1)\n",
    "#     except:\n",
    "#         sup.append(0)\n",
    "#         neg.append(0)\n",
    "\n",
    "    for rl in rea_l:\n",
    "        if not reactions.has_key(u['user_id']):\n",
    "#             reactions[u['user_id']]={}\n",
    "            reactions[u['user_id']]=[]\n",
    "            try:\n",
    "                if len(u[rl])!=0:\n",
    "                    reactions[u['user_id']].append(len(u[rl]))\n",
    "#                     reactions.append(len(u[rl]))\n",
    "#                     reactions[u['user_id']][rl]=(len(u[rl]))\n",
    "                else:\n",
    "                    reactions[u['user_id']].append(0)\n",
    "#                     reactions[u['user_id']][rl]=0\n",
    "            except:\n",
    "                reactions[u['user_id']].append(0)\n",
    "#                 reactions[u['user_id']][rl]=0\n",
    "        else:\n",
    "            try:\n",
    "                if len(u[rl])!=0:\n",
    "                    reactions[u['user_id']].append(len(u[rl]))\n",
    "#                     reactions[u['user_id']][rl]=(len(u[rl]))\n",
    "                else:\n",
    "                    reactions[u['user_id']].append(0)\n",
    "#                     reactions[u['user_id']][rl]=0\n",
    "            except:\n",
    "                reactions[u['user_id']].append(0)\n",
    "#                 reactions[u['user_id']][rl]=0\n",
    "\n",
    "# for rv in range(len(reactions)):\n",
    "#     LOVE.append(reactions.values()[rv][0])\n",
    "#     LIKE.append(reactions.values()[rv][1])\n",
    "#     WOW.append(reactions.values()[rv][2])\n",
    "#     HAHA.append(reactions.values()[rv][3])\n",
    "#     SAD.append(reactions.values()[rv][4])\n",
    "#     ANGRY.append(reactions.values()[rv][5])\n",
    "\n",
    "# for rv in range(len(reactions)):\n",
    "#     t = pandas.DataFrame({'neg':neg,'sup':sup,'u_id':user_id,'count':count,\n",
    "#                           'LOVE':reactions.values()[rv].values()[0],\n",
    "#                           'LIKE':reactions.values()[rv].values()[1],\n",
    "#                            'WOW':reactions.values()[rv].values()[2],\n",
    "#                           'HAHA':reactions.values()[rv].values()[3],\n",
    "#                           'SAD':reactions.values()[rv].values()[4],\n",
    "#                           'ANGRY':reactions.values()[rv].values()[5]})\n",
    "\n",
    "# t = pandas.DataFrame({'neg':neg,'sup':sup,'u_id':user_id,'count':count,'LOVE,ANGRY,HAHA,LIKE,SAD,WOW':reactions.values()})\n",
    "# # t\n",
    "# t.to_csv('user_form.csv', sep=',')\n",
    "# print len(reactions)\n",
    "# print len(sup)"
   ]
  },
  {
   "cell_type": "code",
   "execution_count": 65,
   "metadata": {
    "collapsed": false
   },
   "outputs": [
    {
     "name": "stdout",
     "output_type": "stream",
     "text": [
      "[0, 0, 0, 1, 0, 0]\n"
     ]
    }
   ],
   "source": [
    "# print reactions.values()[0]\n",
    "print reactions.items()[0][1].\n",
    "# LOVE,LIKE,WOW,HAHA,SAD,ANGRY = [],[],[],[],[],[]\n",
    "# for rv in range(len(reactions)):\n",
    "#     LOVE.append(reactions.values()[rv][0])\n",
    "#     LIKE.append(reactions.values()[rv][1])\n",
    "#     WOW.append(reactions.values()[rv][2])\n",
    "#     HAHA.append(reactions.values()[rv][3])\n",
    "#     SAD.append(reactions.values()[rv][4])\n",
    "#     ANGRY.append(reactions.values()[rv][5])\n"
   ]
  },
  {
   "cell_type": "code",
   "execution_count": 79,
   "metadata": {
    "collapsed": false
   },
   "outputs": [
    {
     "name": "stdout",
     "output_type": "stream",
     "text": [
      "1307550719306500\n",
      "(u'1645754059084534', [0, 0, 0, 1, 0, 0])\n"
     ]
    }
   ],
   "source": [
    "print user_id[0]\n",
    "print reactions.items()[0]"
   ]
  },
  {
   "cell_type": "code",
   "execution_count": null,
   "metadata": {
    "collapsed": true
   },
   "outputs": [],
   "source": []
  }
 ],
 "metadata": {
  "kernelspec": {
   "display_name": "Python 2",
   "language": "python",
   "name": "python2"
  },
  "language_info": {
   "codemirror_mode": {
    "name": "ipython",
    "version": 2
   },
   "file_extension": ".py",
   "mimetype": "text/x-python",
   "name": "python",
   "nbconvert_exporter": "python",
   "pygments_lexer": "ipython2",
   "version": "2.7.9"
  }
 },
 "nbformat": 4,
 "nbformat_minor": 2
}
