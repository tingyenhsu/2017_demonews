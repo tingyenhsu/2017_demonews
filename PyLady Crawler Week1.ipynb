{
 "cells": [
  {
   "cell_type": "markdown",
   "metadata": {},
   "source": [
    "###千萬要注意\n",
    "if else\n",
    "前面區塊 (if 區塊) 沒有執行，就執行 else 區塊\n",
    "try except else\n",
    "前面區塊 (except 區塊) 沒有執行，就執行 else 區塊\n",
    "for/while else\n",
    "前面區塊 (if/while 區塊) 有執行完畢、沒遇到 break，就執行 else 區塊\n",
    "跟其他種的用法不同，不夠直覺！"
   ]
  },
  {
   "cell_type": "markdown",
   "metadata": {},
   "source": [
    "### finally\n",
    "不管有沒有例外發生都會執行\n",
    "常見用途: 執行清理用的程式碼 (ex: 可靠的關閉檔案)"
   ]
  },
  {
   "cell_type": "code",
   "execution_count": null,
   "metadata": {
    "collapsed": true
   },
   "outputs": [],
   "source": [
    "f = open('/tmp/random_data.txt')     # 這邊可能會有 IOError\n",
    "try:\n",
    "    data = f.read()                   # 這邊可能會有 UnicodeDecodeError\n",
    "finally:\n",
    "    f.close()"
   ]
  },
  {
   "cell_type": "markdown",
   "metadata": {},
   "source": [
    "### Else\n",
    "若 try 區塊沒有遇到例外就會執行\n",
    "常見用途: 最小化 try 區塊中的程式碼，增進可讀性\n",
    "\n",
    "try\n",
    "發生例外後，想被 except 接收例外去處理的區塊\n",
    "except\n",
    "處理 try 中發生的例外的區塊\n",
    "else\n",
    "try 成功後，處理剩餘動作的區塊\n",
    "finally\n",
    "執行清理動作的區塊"
   ]
  },
  {
   "cell_type": "code",
   "execution_count": null,
   "metadata": {
    "collapsed": true
   },
   "outputs": [],
   "source": [
    "def load_json_key(data, key):\n",
    "    try:\n",
    "        result_dict = json.loads(data)\n",
    "    except ValueError as e:\n",
    "        print(e)\n",
    "        return None\n",
    "    else:\n",
    "        return result_dict[key]         # 這邊可能會有 KeyError"
   ]
  },
  {
   "cell_type": "markdown",
   "metadata": {},
   "source": [
    "### map"
   ]
  },
  {
   "cell_type": "code",
   "execution_count": null,
   "metadata": {
    "collapsed": true
   },
   "outputs": [],
   "source": [
    "a = [1, 2, 3, 4, 5, 6]\n",
    "\n",
    "# 使用 map\n",
    "squares = list(map(lambda x: x**2, a))\n",
    "print(squares)"
   ]
  },
  {
   "cell_type": "markdown",
   "metadata": {},
   "source": [
    "###list comprehension"
   ]
  },
  {
   "cell_type": "code",
   "execution_count": null,
   "metadata": {
    "collapsed": true
   },
   "outputs": [],
   "source": [
    "# 使用串列概括式 (list comprehension)\n",
    "squares = [x**2 for x in a]\n",
    "print(squares)"
   ]
  },
  {
   "cell_type": "code",
   "execution_count": null,
   "metadata": {
    "collapsed": true
   },
   "outputs": [],
   "source": [
    "# 串列概括式: 檔案過大，記憶體可能爆掉\n",
    "value = [len(line) for line in open('/tmp/my_file.txt')]\n",
    "print(value)\n",
    "print()\n",
    "\n",
    "# 產生器運算式: 可利用 next 內建函式來一次次讀取輸出值，不用擔心記憶體爆掉\n",
    "value = (len(line) for line in open('/tmp/my_file.txt'))\n",
    "print(value)\n",
    "print(next(value))\n",
    "print(next(value))\n",
    "\n",
    "# 利用剛剛的 value 來當作 roots 的輸入\n",
    "roots = ((x, x**2) for x in value)\n",
    "print(next(roots))"
   ]
  },
  {
   "cell_type": "markdown",
   "metadata": {},
   "source": [
    "###使用zip\n",
    "使用惰性產生器包裹兩個以上的迭代器\n",
    "此產生器會產出含有每個迭代器下個值的元組: (next(迭代器1), next(迭代器2), ...)"
   ]
  },
  {
   "cell_type": "code",
   "execution_count": null,
   "metadata": {
    "collapsed": true
   },
   "outputs": [],
   "source": [
    "names = ['Cecilia', 'Lise', 'Marie']\n",
    "letters = [len(n) for n in names]\n",
    "longest_name = None\n",
    "max_letters = 0\n",
    "\n",
    "# By range: 有視覺雜訊，相同索引使用了兩次\n",
    "for i in range(len(names)):\n",
    "    count = letters[i]\n",
    "    if count > max_letters:\n",
    "        max_letters = count\n",
    "        longest_name = names[i]\n",
    "print(longest_name)\n",
    "\n",
    "# By enumerate: 稍微改善，但不夠理想\n",
    "for i, name in enumerate(names):\n",
    "    count = letters[i]\n",
    "    if count > max_letters:\n",
    "        max_letters = count\n",
    "        longest_name = name\n",
    "print(longest_name)"
   ]
  },
  {
   "cell_type": "code",
   "execution_count": null,
   "metadata": {
    "collapsed": true
   },
   "outputs": [],
   "source": [
    "names = ['Cecilia', 'Lise', 'Marie']\n",
    "letters = [len(n) for n in names]\n",
    "longest_name = None\n",
    "max_letters = 0\n",
    "\n",
    "for name, count in zip(names, letters):\n",
    "    if count > max_letters:\n",
    "        max_letters = count\n",
    "        longest_name = name\n",
    "print(longest_name)"
   ]
  },
  {
   "cell_type": "code",
   "execution_count": null,
   "metadata": {
    "collapsed": true
   },
   "outputs": [],
   "source": [
    "\"123456\"[::-2]\n",
    "# This takes the whole string ([::])\n",
    "# Then it works backward (-)\n",
    "# and it does every other character (2)\n",
    "\n",
    "\"123456\"[1::-2]\n",
    "# This is also working backward (-)\n",
    "# every other character (2)\n",
    "# but starting at position 1, which is the number 2.\n",
    "\n",
    "\"123456\"[2::-2]\n",
    "# Again, working backward (-)\n",
    "# Every other character (2)\n",
    "# begin at position 2, so you end up with positions 2, and 0, or '31'"
   ]
  },
  {
   "cell_type": "code",
   "execution_count": null,
   "metadata": {
    "collapsed": true
   },
   "outputs": [],
   "source": [
    "a = ['a', 'b', 'c', 'd', 'e', 'f']\n",
    "\n",
    "# 當 stride 是正數，意即從串列的頭開始\n",
    "a[::2]       # ['a', 'c', 'e']\n",
    "a[::3]       # ['a', 'd']\n",
    "\n",
    "# 當 stride 是負數，意即從串列的尾開始\n",
    "a[::-1]      # ['f', 'e', 'd', 'c', 'b', 'a']\n",
    "a[::-2]      # ['f', 'd', 'b']\n",
    "\n",
    "# 當 stride 與 start 或 end 同時使用，容易使人困惑 (stride 為負數時尤勝)\n",
    "a[2::2]      # ['c', 'e']\n",
    "a[:-2:2]     # ['a', 'c']\n",
    "a[2:-2:2]    # ['c']\n",
    "\n",
    "a[-2::-2]    # ['e', 'c', 'a']\n",
    "a[:2:-2]     # ['f', 'd']\n",
    "a[-2:2:-2]   # ['e']\n",
    "a[4:1:-2]    # ['e', 'c']"
   ]
  },
  {
   "cell_type": "markdown",
   "metadata": {},
   "source": [
    "###抓取CNN計算出現最多的詞"
   ]
  },
  {
   "cell_type": "code",
   "execution_count": 4,
   "metadata": {
    "collapsed": true
   },
   "outputs": [],
   "source": [
    "# 抓取網頁\n",
    "import requests\n",
    "url = \"http://money.cnn.com/2016/10/10/technology/samsung-galaxy-note-7-turn-off/index.html\"\n",
    "response = requests.get(url)\n",
    "html = response.text"
   ]
  },
  {
   "cell_type": "code",
   "execution_count": 5,
   "metadata": {
    "collapsed": false
   },
   "outputs": [],
   "source": [
    "# 計算出現最多的單字\n",
    "word_list = []\n",
    "max_count = 0\n",
    "max_word = \"\"\n",
    "for word in html.split(\" \"):\n",
    "    word_list.append(word)\n",
    "    \n",
    "for word in word_list:\n",
    "    word_appear_time = word_list.count(word)\n",
    "    #print (word,word_appear_time)\n",
    "    if ( (word_appear_time>= max_count) and len(word)>1 \n",
    "             and (\"<\" not in word) and (\">\" not in word) ):\n",
    "        max_count = word_appear_time\n",
    "        max_word = word"
   ]
  },
  {
   "cell_type": "code",
   "execution_count": 6,
   "metadata": {
    "collapsed": false
   },
   "outputs": [
    {
     "name": "stdout",
     "output_type": "stream",
     "text": [
      "(u'var', 28)\n"
     ]
    }
   ],
   "source": [
    "# 印出結果\n",
    "print (max_word,max_count)"
   ]
  },
  {
   "cell_type": "markdown",
   "metadata": {},
   "source": [
    "###抓取圖片"
   ]
  },
  {
   "cell_type": "code",
   "execution_count": null,
   "metadata": {
    "collapsed": true
   },
   "outputs": [],
   "source": [
    "# 抓取網頁\n",
    "import requests\n",
    "url = \"http://blog.marsw.tw/\"\n",
    "response = requests.get(url)\n",
    "html = response.text"
   ]
  },
  {
   "cell_type": "code",
   "execution_count": null,
   "metadata": {
    "collapsed": true
   },
   "outputs": [],
   "source": [
    "# 擷取屬於圖片的網址\n",
    "for temp in html.split(\"<img\"):\n",
    "    line = temp.split(\"/>\")[0]\n",
    "    if (\"src=\" in line):\n",
    "        img_src = line.replace(\"\\'\",\"\\\"\").split(\"src=\\\"\")[-1].split(\"\\\"\")[0]\n",
    "        if ( (\".jpeg\" in img_src) or (\".jpg\" in img_src) \n",
    "                or (\".JPG\" in img_src) or (\".png\" in img_src) ) :\n",
    "            # print (img_src)\n",
    "            # 抓取圖片\n",
    "            img_response = requests.get(img_src)\n",
    "            img = img_response.content\n",
    "            \n",
    "            filename=img_src.split(\"/\")[-1]\n",
    "            filepath=\"tmp/\"+filename\n",
    "            fileout = open(filepath,\"wb\")\n",
    "            fileout.write(img)"
   ]
  }
 ],
 "metadata": {
  "kernelspec": {
   "display_name": "Python 2",
   "language": "python",
   "name": "python2"
  },
  "language_info": {
   "codemirror_mode": {
    "name": "ipython",
    "version": 2
   },
   "file_extension": ".py",
   "mimetype": "text/x-python",
   "name": "python",
   "nbconvert_exporter": "python",
   "pygments_lexer": "ipython2",
   "version": "2.7.9"
  }
 },
 "nbformat": 4,
 "nbformat_minor": 0
}
