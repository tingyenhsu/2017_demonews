{
 "cells": [
  {
   "cell_type": "markdown",
   "metadata": {},
   "source": [
    "## 連結mongoDB"
   ]
  },
  {
   "cell_type": "code",
   "execution_count": 1,
   "metadata": {
    "collapsed": true
   },
   "outputs": [],
   "source": [
    "import pymongo  #version:3.4.0\n",
    "from pymongo import MongoClient\n",
    "client = pymongo.MongoClient()\n",
    "# from pymongo import Connection\n",
    "# connection = Connection()#這是在自己的本機建的，所以用connection"
   ]
  },
  {
   "cell_type": "code",
   "execution_count": 2,
   "metadata": {
    "collapsed": false
   },
   "outputs": [
    {
     "data": {
      "text/plain": [
       "[u'comments',\n",
       " u'clean_comment',\n",
       " u'pure_ke_clean_comment_copy',\n",
       " u'posts',\n",
       " u'pure_ke_user_copy',\n",
       " u'detector_one_by_one',\n",
       " u'user']"
      ]
     },
     "execution_count": 2,
     "metadata": {},
     "output_type": "execute_result"
    }
   ],
   "source": [
    "db = client.Candidate\n",
    "db.collection_names()"
   ]
  },
  {
   "cell_type": "code",
   "execution_count": 3,
   "metadata": {
    "collapsed": true
   },
   "outputs": [],
   "source": [
    "facebook_id = '46251501064' #Tsai\n",
    "facebook_page_name = 'Tsai'\n",
    "# facebook_id = '136845026417486' #Ke\n",
    "# facebook_page_name = 'Ke'\n",
    "# facebook_id = '188311137478' #ChinaTimes \n",
    "# facebook_page_name = 'ChinaTimes'\n",
    "# facebook_id = '241284961029'\n",
    "# facebook_page_name = 'udn' \n",
    "# facebook_id = '394896373929368' \n",
    "# facebook_page_name = 'ltn' \n",
    "# facebook_id = '232633627068' \n",
    "# facebook_page_name = 'AppleDaily'"
   ]
  },
  {
   "cell_type": "code",
   "execution_count": 4,
   "metadata": {
    "collapsed": false
   },
   "outputs": [
    {
     "name": "stdout",
     "output_type": "stream",
     "text": [
      "['1307550719306500', '282520725500399', '402184603467122', '1612531879075926', '357649311284175', '1077495905651938', '879672328842272', '361800747535726', '10206215950148794', '360637757653227', '167386673755045', '10211808906327222', '2229294480629446', '1747490062236139', '1223024557715780', '1151289914941098', '1419903194695476', '1423058981047363', '243217906134585', '267227073641351']\n",
      "43725\n"
     ]
    }
   ],
   "source": [
    "# 匯入在2015-2017年間留言多於一則以上的使用者名單\n",
    "user_list = []\n",
    "file = open('user_Tsai.txt', 'r') \n",
    "userfile = file.read()\n",
    "# print userfile.split(',')[0]\n",
    "user_list.append(userfile.split(','))\n",
    "print user_list[0][0:20]\n",
    "print len(user_list[0])"
   ]
  },
  {
   "cell_type": "markdown",
   "metadata": {},
   "source": [
    "## 寫進資料庫中"
   ]
  },
  {
   "cell_type": "code",
   "execution_count": null,
   "metadata": {
    "collapsed": false
   },
   "outputs": [
    {
     "name": "stderr",
     "output_type": "stream",
     "text": [
      "/Users/TingYen/anaconda/lib/python2.7/site-packages/ipykernel/__main__.py:16: DeprecationWarning: insert is deprecated. Use insert_one or insert_many instead.\n"
     ]
    }
   ],
   "source": [
    "#按照user去抓comment標記,並以user為key存起來（存在叫做db.clean_comment中）\n",
    "# 記得要改comment的名字\n",
    "for u in user_list[0]:\n",
    "    try:\n",
    "        for c in db.comments.find({'user_id':u,'page_name':'Tsai','year':{'$gte':2015,'$lte':2017}}):\n",
    "            if db.clean_comment.find({'user_id':c['user_id']}).count()==0:\n",
    "                db.clean_comment.insert({'user_id':c['user_id'],\n",
    "                              'user_name':c['user_name'],\n",
    "                                'tsai_comment':[[c['comment']]],\n",
    "                                'tsai_comment_id':[[c['comment_id']]],\n",
    "                                'sup_page_name':facebook_page_name,\n",
    "                                'sup_page_id':facebook_id,\n",
    "                                'n_sup_page_name':'',\n",
    "                                'n_sup_page_id':'',\n",
    "                                'n_page_name':'',\n",
    "                                'n_page_id':'',\n",
    "                               })\n",
    "            else:\n",
    "                db.clean_comment.update_one({'user_id':c['user_id'].encode('utf-8')},\n",
    "                               {'$push':{\n",
    "                                'tsai_comment_id':[c['comment_id']],\n",
    "                                'tsai_comment':[c['comment']]}})\n",
    "    except:\n",
    "        print u\n",
    "        pass\n",
    "db.clean_comment.count()\n",
    "db.update\n",
    "# comments.update()\n",
    "print db.clean_comment.count()\n",
    "client.close()\n",
    "# db.posts.find({})\n"
   ]
  },
  {
   "cell_type": "code",
   "execution_count": null,
   "metadata": {
    "collapsed": true
   },
   "outputs": [],
   "source": []
  }
 ],
 "metadata": {
  "kernelspec": {
   "display_name": "Python 2",
   "language": "python",
   "name": "python2"
  },
  "language_info": {
   "codemirror_mode": {
    "name": "ipython",
    "version": 2
   },
   "file_extension": ".py",
   "mimetype": "text/x-python",
   "name": "python",
   "nbconvert_exporter": "python",
   "pygments_lexer": "ipython2",
   "version": "2.7.9"
  }
 },
 "nbformat": 4,
 "nbformat_minor": 2
}
