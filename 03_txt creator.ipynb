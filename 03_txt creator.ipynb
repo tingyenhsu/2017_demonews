{
 "cells": [
  {
   "cell_type": "markdown",
   "metadata": {},
   "source": [
    "## 連結mongoDB"
   ]
  },
  {
   "cell_type": "code",
   "execution_count": 2,
   "metadata": {
    "collapsed": true
   },
   "outputs": [],
   "source": [
    "import pymongo\n",
    "from pymongo import MongoClient\n",
    "client = MongoClient()\n",
    "from pymongo import Connection\n",
    "connection = Connection()#這是在自己的本機建的，所以用connection"
   ]
  },
  {
   "cell_type": "code",
   "execution_count": 3,
   "metadata": {
    "collapsed": false
   },
   "outputs": [
    {
     "data": {
      "text/plain": [
       "[u'comments', u'posts', u'reactions', u'detector_one_by_one', u'user']"
      ]
     },
     "execution_count": 3,
     "metadata": {},
     "output_type": "execute_result"
    }
   ],
   "source": [
    "db = connection['Candidate']\n",
    "db.collection_names(include_system_collections=False) #listing all of the collections in our database\n",
    "# collection = db['comments']"
   ]
  },
  {
   "cell_type": "markdown",
   "metadata": {},
   "source": [
    "## 算使用者在一定時間內留言過幾次，並建立留言多於一次的user list"
   ]
  },
  {
   "cell_type": "code",
   "execution_count": 5,
   "metadata": {
    "collapsed": false
   },
   "outputs": [
    {
     "name": "stdout",
     "output_type": "stream",
     "text": [
      "2015-2017共有 116035 位使用者\n"
     ]
    }
   ],
   "source": [
    "user_dic={}\n",
    "for c in db.comments.find({'page_name':'Tsai','year':{'$gte':2015,'$lte':2017}}):\n",
    "    if not c['user_id'] in user_dic:\n",
    "        user_dic[c['user_id']]=0\n",
    "    user_dic[c['user_id']]+=1\n",
    "print '2015-2017共有',len(user_dic),'位使用者'"
   ]
  },
  {
   "cell_type": "code",
   "execution_count": 6,
   "metadata": {
    "collapsed": false
   },
   "outputs": [
    {
     "name": "stdout",
     "output_type": "stream",
     "text": [
      "43724\n"
     ]
    }
   ],
   "source": [
    "#剔除只留一次言的人\n",
    "once = []\n",
    "for f in user_dic:\n",
    "    if user_dic[f] != 1:\n",
    "        once.append(f)\n",
    "print len(once)"
   ]
  },
  {
   "cell_type": "code",
   "execution_count": 9,
   "metadata": {
    "collapsed": false
   },
   "outputs": [],
   "source": [
    "file = open('user.txt','w') \n",
    "for line in once: \n",
    "    file.write(line+',') \n",
    "file.close() "
   ]
  },
  {
   "cell_type": "markdown",
   "metadata": {},
   "source": [
    "## 建立2015-2017的post_id list "
   ]
  },
  {
   "cell_type": "code",
   "execution_count": null,
   "metadata": {
    "collapsed": true
   },
   "outputs": [],
   "source": [
    "# 先建立從2016-2017的post id list\n",
    "post_id_list = []\n",
    "for c in db.comments.find({'page_name':'Tsai','year':{'$gte':2015,'$lte':2017}}):\n",
    "    if not c['post_id'] in post_id_list:\n",
    "        post_id_list.append(c['post_id'])\n",
    "    else:\n",
    "        pass \n",
    "#         print c['post_id']"
   ]
  },
  {
   "cell_type": "code",
   "execution_count": null,
   "metadata": {
    "collapsed": true
   },
   "outputs": [],
   "source": [
    "file = open('post_id.txt','w') \n",
    "for line in post_id_list:\n",
    "    file.write(line+',') \n",
    "file.close() "
   ]
  }
 ],
 "metadata": {
  "kernelspec": {
   "display_name": "Python 2",
   "language": "python",
   "name": "python2"
  },
  "language_info": {
   "codemirror_mode": {
    "name": "ipython",
    "version": 2
   },
   "file_extension": ".py",
   "mimetype": "text/x-python",
   "name": "python",
   "nbconvert_exporter": "python",
   "pygments_lexer": "ipython2",
   "version": "2.7.9"
  }
 },
 "nbformat": 4,
 "nbformat_minor": 0
}
