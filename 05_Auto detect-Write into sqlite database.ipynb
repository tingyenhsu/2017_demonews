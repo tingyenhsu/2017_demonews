{
 "cells": [
  {
   "cell_type": "markdown",
   "metadata": {},
   "source": [
    "## Documentation: https://docs.python.org/2/library/sqlite3.html\n",
    "#### 為什麼execute只有回傳一個結果？http://stackoverflow.com/questions/20448393/python-2-7-sqlite3-cursor-returns-only-one-result\n",
    "#### another documentation: http://sebastianraschka.com/Articles/2014_sqlite_in_python_tutorial.html\n"
   ]
  },
  {
   "cell_type": "markdown",
   "metadata": {},
   "source": [
    "## 連結sqlite"
   ]
  },
  {
   "cell_type": "code",
   "execution_count": 73,
   "metadata": {
    "collapsed": false
   },
   "outputs": [],
   "source": [
    "import sqlite3\n",
    "conn = sqlite3.connect('candidate')\n",
    "c = conn.cursor()"
   ]
  },
  {
   "cell_type": "code",
   "execution_count": 74,
   "metadata": {
    "collapsed": false
   },
   "outputs": [
    {
     "data": {
      "text/plain": [
       "'3.13.0'"
      ]
     },
     "execution_count": 74,
     "metadata": {},
     "output_type": "execute_result"
    }
   ],
   "source": [
    "sqlite3.sqlite_version"
   ]
  },
  {
   "cell_type": "code",
   "execution_count": 76,
   "metadata": {
    "collapsed": false
   },
   "outputs": [
    {
     "name": "stderr",
     "output_type": "stream",
     "text": [
      "ERROR:root:An unexpected error occurred while tokenizing input\n",
      "The following traceback may be corrupted or invalid\n",
      "The error message is: ('EOF in multi-line string', (1, 99))\n",
      "\n"
     ]
    },
    {
     "ename": "OperationalError",
     "evalue": "table autoDetect already exists",
     "output_type": "error",
     "traceback": [
      "\u001b[0;31m---------------------------------------------------------------------------\u001b[0m",
      "\u001b[0;31mOperationalError\u001b[0m                          Traceback (most recent call last)",
      "\u001b[0;32m<ipython-input-76-e6d9ed51b22b>\u001b[0m in \u001b[0;36m<module>\u001b[0;34m()\u001b[0m\n\u001b[1;32m      1\u001b[0m \u001b[0;31m# Create table\u001b[0m\u001b[0;34m\u001b[0m\u001b[0;34m\u001b[0m\u001b[0m\n\u001b[1;32m      2\u001b[0m c.execute('''CREATE TABLE autoDetect\n\u001b[0;32m----> 3\u001b[0;31m              (user_id text PRIMARY KEY, sup integer, page_name text, comment_id text, comment text)''')\n\u001b[0m",
      "\u001b[0;31mOperationalError\u001b[0m: table autoDetect already exists"
     ]
    }
   ],
   "source": [
    "# Create table\n",
    "c.execute('''CREATE TABLE autoDetect\n",
    "             (user_id text PRIMARY KEY, sup integer, page_name text, comment_id text, comment text)''')"
   ]
  },
  {
   "cell_type": "markdown",
   "metadata": {},
   "source": [
    "#### test"
   ]
  },
  {
   "cell_type": "code",
   "execution_count": 58,
   "metadata": {
    "collapsed": true
   },
   "outputs": [],
   "source": [
    "import sqlite3\n",
    "conn = sqlite3.connect('db.sqlite3')\n",
    "c = conn.cursor()"
   ]
  },
  {
   "cell_type": "code",
   "execution_count": 33,
   "metadata": {
    "collapsed": false
   },
   "outputs": [
    {
     "name": "stdout",
     "output_type": "stream",
     "text": [
      "(u'Bilby', u'grey', 35.0, 30.0)\n",
      "(u'Tiger', u'white', 500.0, 53.0)\n",
      "(u'Tiger', u'white', 500.0, 53.0)\n",
      "(u'Tiger', u'white', 500.0, 53.0)\n",
      "(u'Golden fish', u'orange', 1000.0, 45.0)\n",
      "(u'Elephant', u'grey', 1000.0, 72.0)\n",
      "(u'Golden fish', u'orange', 1000.0, 45.0)\n",
      "(u'Elephant', u'grey', 1000.0, 72.0)\n",
      "(u'Golden fish', u'orange', 1000.0, 45.0)\n",
      "(u'Elephant', u'grey', 1000.0, 72.0)\n"
     ]
    }
   ],
   "source": [
    "for row in c.execute('SELECT * FROM Animal ORDER BY length'):\n",
    "    print row"
   ]
  },
  {
   "cell_type": "code",
   "execution_count": 53,
   "metadata": {
    "collapsed": false
   },
   "outputs": [
    {
     "ename": "OperationalError",
     "evalue": "no such table: Animal",
     "output_type": "error",
     "traceback": [
      "\u001b[0;31m---------------------------------------------------------------------------\u001b[0m",
      "\u001b[0;31mOperationalError\u001b[0m                          Traceback (most recent call last)",
      "\u001b[0;32m<ipython-input-53-7e4a0d34fabd>\u001b[0m in \u001b[0;36m<module>\u001b[0;34m()\u001b[0m\n\u001b[1;32m      1\u001b[0m \u001b[0mt\u001b[0m \u001b[0;34m=\u001b[0m \u001b[0;34m(\u001b[0m\u001b[0;34m'grey'\u001b[0m\u001b[0;34m,\u001b[0m\u001b[0;34m)\u001b[0m\u001b[0;34m\u001b[0m\u001b[0m\n\u001b[0;32m----> 2\u001b[0;31m \u001b[0mrows_affected\u001b[0m\u001b[0;34m=\u001b[0m\u001b[0mc\u001b[0m\u001b[0;34m.\u001b[0m\u001b[0mexecute\u001b[0m\u001b[0;34m(\u001b[0m\u001b[0;34m'SELECT COUNT(*) FROM Animal WHERE color=?'\u001b[0m\u001b[0;34m,\u001b[0m \u001b[0mt\u001b[0m\u001b[0;34m,\u001b[0m\u001b[0;34m)\u001b[0m\u001b[0;34m.\u001b[0m\u001b[0mfetchall\u001b[0m\u001b[0;34m(\u001b[0m\u001b[0;34m)\u001b[0m\u001b[0;34m\u001b[0m\u001b[0m\n\u001b[0m\u001b[1;32m      3\u001b[0m \u001b[0;32mprint\u001b[0m \u001b[0mrows_affected\u001b[0m\u001b[0;34m\u001b[0m\u001b[0m\n\u001b[1;32m      4\u001b[0m \u001b[0;32mprint\u001b[0m \u001b[0mlen\u001b[0m\u001b[0;34m(\u001b[0m\u001b[0mrows_affected\u001b[0m\u001b[0;34m)\u001b[0m\u001b[0;34m\u001b[0m\u001b[0m\n",
      "\u001b[0;31mOperationalError\u001b[0m: no such table: Animal"
     ]
    }
   ],
   "source": [
    "t = ('grey',)\n",
    "rows_affected=c.execute('SELECT * FROM Animal WHERE color=?', t,).fetchall()\n",
    "print rows_affected\n",
    "print len(rows_affected)"
   ]
  },
  {
   "cell_type": "markdown",
   "metadata": {},
   "source": [
    "## 進行判斷"
   ]
  },
  {
   "cell_type": "code",
   "execution_count": 49,
   "metadata": {
    "collapsed": true
   },
   "outputs": [],
   "source": [
    "#連上mongo\n",
    "import pymongo  #version:3.4.0\n",
    "from pymongo import MongoClient\n",
    "client = pymongo.MongoClient()\n",
    "# from pymongo import Connection\n",
    "# connection = Connection()#這是在自己的本機建的，所以用connection"
   ]
  },
  {
   "cell_type": "code",
   "execution_count": 50,
   "metadata": {
    "collapsed": false
   },
   "outputs": [
    {
     "data": {
      "text/plain": [
       "[u'comments',\n",
       " u'clean_comment',\n",
       " u'pure_ke_clean_comment_copy',\n",
       " u'posts',\n",
       " u'pure_ke_user_copy',\n",
       " u'detector_one_by_one',\n",
       " u'user',\n",
       " u'tsai_clean_comment']"
      ]
     },
     "execution_count": 50,
     "metadata": {},
     "output_type": "execute_result"
    }
   ],
   "source": [
    "db = client.Candidate\n",
    "db.collection_names()"
   ]
  },
  {
   "cell_type": "code",
   "execution_count": 51,
   "metadata": {
    "collapsed": true
   },
   "outputs": [],
   "source": [
    "facebook_id = '46251501064' #Tsai\n",
    "facebook_page_name = 'Tsai'\n",
    "# facebook_id = '136845026417486' #Ke\n",
    "# facebook_page_name = 'Ke'\n",
    "# facebook_id = '188311137478' #ChinaTimes \n",
    "# facebook_page_name = 'ChinaTimes'\n",
    "# facebook_id = '241284961029'\n",
    "# facebook_page_name = 'udn' \n",
    "# facebook_id = '394896373929368' \n",
    "# facebook_page_name = 'ltn' \n",
    "# facebook_id = '232633627068' \n",
    "# facebook_page_name = 'AppleDaily'"
   ]
  },
  {
   "cell_type": "code",
   "execution_count": 68,
   "metadata": {
    "collapsed": false
   },
   "outputs": [
    {
     "name": "stdout",
     "output_type": "stream",
     "text": [
      "0\n"
     ]
    }
   ],
   "source": [
    "# for tcc in db.tsai_clean_comment.find({}):\n",
    "#先找這個使用者有[沒有]在sqlite中出現過\n",
    "t = ('10152022265951074',)\n",
    "print len(c.execute('SELECT * FROM autoDetect WHERE user_id=?',t,).fetchall())\n"
   ]
  },
  {
   "cell_type": "code",
   "execution_count": 108,
   "metadata": {
    "collapsed": false
   },
   "outputs": [
    {
     "name": "stdout",
     "output_type": "stream",
     "text": [
      "點，亮，台，灣\n",
      "台灣要準備換上一顆史上最強的心臟和腦袋了，各位台灣的國民準備好了沒？\n",
      "讓我們一起和蔡主席的新政府團隊為台灣這片土地奮鬥吧！！！\n",
      "再創二次台灣奇蹟，英派努力我們有信心！！\n",
      "蔡主席加油！！！\n",
      "吹死你们这群智障\n",
      "吹死你们这群智障\n",
      "成天放屁 谁吊你们????????\n",
      "如果有民進黨，貪官汙吏處處橫行霸道！\n",
      "如果有民進黨，狗冥黨不知欺騙到何時！\n",
      "如果有民進黨，台灣或許已成中國一省！\n",
      "如果有民進黨，狗黨肯定更髒更貪更腐！\n",
      "如果有民進黨，狗黨究竟要作歹到何時！\n",
      "如果有民進黨，公平正義將越來越遙遠！\n",
      "如果有民進黨，貪官汙吏處處橫行霸道！\n",
      "如果有民進黨，狗冥黨不知欺騙到何時！\n",
      "如果有民進黨，台灣或許已成中國一省！\n",
      "如果有民進黨，狗黨肯定更髒更貪更腐！\n",
      "如果有民進黨，狗黨究竟要作歹到何時！\n",
      "如果有民進黨，公平正義將越來越遙遠！\n",
      "i Mabi 以熱愛中國為榮，以奉承台湾為恥！\n",
      "以民主法治為榮，以專制獨裁為恥！\n",
      "以自由國家為榮，以翻牆貼文為恥！\n",
      "以合作創新為榮，以山寨仿冒為恥！\n",
      "以乾淨整齊為榮，以隨地吐痰為恥！ 当堂堂正正中国 还是当日杂绿畜 您要哪一種？\n",
      "以謙卑心胸為榮，以狂妄自大為恥！\n",
      "以和諧共進為榮，以文攻武嚇為恥！\n",
      "以清廉政府為榮，以貪污腐敗為恥！\n",
      "自由民主與專制獨裁，您要哪一種？\n",
      "以熱愛中國為榮，以奉承台湾為恥！\n",
      "以民主法治為榮，以專制獨裁為恥！\n",
      "以自由國家為榮，以翻牆貼文為恥！\n",
      "以合作創新為榮，以山寨仿冒為恥！\n",
      "以乾淨整齊為榮，以隨地吐痰為恥！\n",
      "以謙卑心胸為榮，以狂妄自大為恥！\n",
      "以和諧共進為榮，以文攻武嚇為恥！\n",
      "以清廉政府為榮，以貪污腐敗為恥！\n",
      "自由民主與專制獨裁，您要哪一種？\n",
      "以熱愛中國為榮，以奉承台湾為恥！\n",
      "以民主法治為榮，以專制獨裁為恥！\n",
      "以自由國家為榮，以翻牆貼文為恥！\n",
      "以合作創新為榮，以山寨仿冒為恥！\n",
      "以乾淨整齊為榮，以隨地吐痰為恥！ \n",
      "以謙卑心胸為榮，以狂妄自大為恥！\n",
      "以和諧共進為榮，以文攻武嚇為恥！\n",
      "以清廉政府為榮，以貪污腐敗為恥！\n",
      " 当堂堂正正中国 还是当日杂绿畜 您要哪一種？\n",
      "以熱愛中國為榮，以奉承台湾為恥！\n",
      "以民主法治為榮，以專制獨裁為恥！\n",
      "以自由國家為榮，以翻牆貼文為恥！\n",
      "以合作創新為榮，以山寨仿冒為恥！\n",
      "以乾淨整齊為榮，以隨地吐痰為恥！\n",
      "以謙卑心胸為榮，以狂妄自大為恥！\n",
      "以和諧共進為榮，以文攻武嚇為恥！\n",
      "以清廉政府為榮，以貪污腐敗為恥！\n",
      "自由民主與專制獨裁，您要哪一種？\n",
      "如果有民進黨，貪官汙吏處處橫行霸道！\n",
      "如果有民進黨，狗冥黨不知欺騙到何時！\n",
      "如果有民進黨，台灣或許已成中國一省！\n",
      "如果有民進黨，狗黨肯定更髒更貪更腐！\n",
      "如果有民進黨，狗黨究竟要作歹到何時！\n",
      "如果有民進黨，公平正義將越來越遙遠！\n",
      "以熱愛中國為榮，以奉承台湾為恥！\n",
      "以民主法治為榮，以專制獨裁為恥！\n",
      "以自由國家為榮，以翻牆貼文為恥！\n",
      "以合作創新為榮，以山寨仿冒為恥！\n",
      "以乾淨整齊為榮，以隨地吐痰為恥！ \n",
      "以謙卑心胸為榮，以狂妄自大為恥！\n",
      "以和諧共進為榮，以文攻武嚇為恥！\n",
      "以清廉政府為榮，以貪污腐敗為恥！\n",
      "当堂堂正正中国 还是当日杂绿畜 您要哪一種？\n",
      "以熱愛中國為榮，以奉承台湾為恥！\n",
      "以民主法治為榮，以專制獨裁為恥！\n",
      "以自由國家為榮，以翻牆貼文為恥！\n",
      "以合作創新為榮，以山寨仿冒為恥！\n",
      "以乾淨整齊為榮，以隨地吐痰為恥！ \n",
      "以謙卑心胸為榮，以狂妄自大為恥！\n",
      "以和諧共進為榮，以文攻武嚇為恥！\n",
      "以清廉政府為榮，以貪污腐敗為恥！\n",
      "当堂堂正正中国 还是当日杂绿畜 您要哪一種？\n",
      "以熱愛中國為榮，以奉承台湾為恥！\n",
      "以民主法治為榮，以專制獨裁為恥！\n",
      "以自由國家為榮，以翻牆貼文為恥！\n",
      "以合作創新為榮，以山寨仿冒為恥！\n",
      "以乾淨整齊為榮，以隨地吐痰為恥！ \n",
      "以謙卑心胸為榮，以狂妄自大為恥！\n",
      "以和諧共進為榮，以文攻武嚇為恥！\n",
      "以清廉政府為榮，以貪污腐敗為恥！\n",
      "当堂堂正正中国 还是当日杂绿畜 您要哪一種？\n",
      "P总统府  一个省长办公室 而已 真能意淫 MDZZ 妈的 智障\n",
      "等着解放军接收吧\n",
      "垃圾\n",
      "一群狗还在跪舔\n",
      "这眼神 一脸鄙视\n",
      "智障湾\n",
      "呵呵哒\n",
      "智障台湾\n",
      "三观都不正的绿蛙岛民日杂 真是无法交流\n",
      "一群LOW民 岛民思维 真是LOW爆了\n",
      "鬼岛LOW民 上面住着一群日杂皇民 日畜\n",
      "鬼岛LOW民 上面住着一群日杂皇民  日畜\n",
      "鬼岛LOW民 上面住着一群日杂皇民 日畜 要岛 不要人 滚去太平洋 把我们的岛还回来 13亿 民意 你是2300万头猪能比的？？？？？？？\n",
      "鬼岛LOW民 上面住着一群日杂皇民 日畜 要岛 不要人 滚去太平洋 把我们的岛还回来 13亿 民意 你是2300万头猪能比的？？？？？？？\n",
      "鬼岛LOW民 上面住着一群日杂皇民 日畜 要岛 不要人 滚去太平洋 把我们的岛还回来 13亿 民意 你是2300万头猪能比的？？？？？？？\n",
      "这老婊子 决心跟美日狗走了\n",
      "鬼岛LOW民 上面住着一群日杂皇民 日畜 要岛 不要人 滚去太平洋 把我们的岛还回来 13亿 民意 你是2300万头猪能比的？？？？？？？\n",
      "一群智障湾 无线刷低底线 真是一群垃圾P民 果然日杂 日畜 皇民 一群智障\n",
      "一群智障湾 无线刷低底线 真是一群垃圾P民 果然日杂 日畜 皇民 一群智障\n",
      "一群智障湾 无线刷低底线 真是一群垃圾P民 果然日杂 日畜 皇民 一群智障\n",
      "一群智障湾 无线刷低底线 真是一群垃圾P民 果然日杂 日畜 皇民 一群智障\n",
      "成天跪舔你美日爹 你美日爹天天拿你当孙子看  ？？？？？？？？？ 跟狗似的台湾人 哪来的优越感 哪来的尊严？ 哪里的你们所谓的垃圾民主？\n",
      "傻逼台湾人成天还在网路上BB BB你妈B 要不是岛上有中国人 早你妈B打你们了 成天活在幻想中 累不累\n",
      "煞笔台湾人 智障弯 哪来的优越感\n",
      "我们大陆人看你们台湾人 成天跟看大马猴似的  越看越好笑\n",
      "吹死你们这群智障湾\n",
      "嘴炮垃圾台湾人就是一群废物搭理它们做什么\n",
      "垃圾\n",
      "岛民思维 真是LOW\n",
      "呵呵 豆逼 尿岛\n",
      "low 民\n",
      "垃圾\n",
      "low 民\n",
      "low民 鬼岛\n",
      "快独立 听话 乖 我们好揍你\n",
      "垃圾岛民 垃圾台湾鬼岛\n",
      "傻逼 Ch len\n",
      "国军 有个卵用、\n",
      "亲东风31快递 请查收\n",
      "废物\n",
      "我是刑警\n",
      "有鸡巴用？\n",
      "智障\n",
      "洪素珠 草泥马 别出台湾 出了台湾就整死你 丑的像大便一样\n",
      "洪素珠 草泥马 别出台湾 出了台湾就整死你 丑的像大便一样\n",
      "洪素珠 草泥马 别出台湾 出了台湾就整死你 丑的像大便一样\n",
      "洪素珠 草泥马 别出台湾 出了台湾就整死你 丑的像大便一样\n",
      "洪素珠 草泥马 别出台湾 出了台湾就整死你 丑的像大便一样\n",
      "洪素珠 草泥马 别出台湾 出了台湾就整死你 丑的像大便一样\n",
      "洪素珠 草泥马 别出台湾 出了台湾就整死你 丑的像大便一样\n",
      "洪素珠 草泥马 别出台湾 出了台湾就整死你 丑的像大便一样\n",
      "国军弟兄们 ， 你们投降吧。 只要放下枪， 我们不杀你， 想想你家里的妻儿老小， 解放军有政策， 我们不杀俘虏， 还给你们发放路费回家。\n",
      "国军弟兄们 ， 你们投降吧。 只要放下枪， 我们不杀你， 想想你家里的妻儿老小， 解放军有政策， 我们不杀俘虏， 还给你们发放路费回家。\n",
      "国军弟兄们 ， 你们投降吧。 只要放下枪， 我们不杀你， 想想你家里的妻儿老小， 解放军有政策， 我们不杀俘虏， 还给你们发放路费回家。\n",
      "台湾人 滚去吃屎去吧 谁理你们 一群傻狗\n",
      "国军弟兄们 ， 你们投降吧。 只要放下枪， 我们不杀你， 想想你家里的妻儿老小， 解放军有政策， 我们不杀俘虏， 还给你们发放路费回家。\n",
      "国军弟兄们 ， 你们投降吧。 只要放下枪， 我们不杀你， 想想你家里的妻儿老小， 解放军有政策， 我们不杀俘虏， 还给你们发放路费回家。\n",
      "一個鬼島   裏面住着一堆智障井蛙島民 皇民 日雜  草泥馬  把我們的地盤還給我們  你們都滾去太平洋裏吃屎去 成天阻礙中國崛起 要不是島裏有中國人   早尼瑪打你們這羣井蛙了\n",
      "国军弟兄们 ， 你们投降吧。 只要放下枪， 我们不杀你，  想想你家里的妻儿老小， 解放军有政策， 我们不杀俘虏， 还给你们发放路费回家。\n",
      "一個鬼島 裏面住着一堆智障井蛙島民 皇民 日雜 草泥馬 把我們的地盤還給我們 你們都滾去太平洋裏吃屎去 成天阻礙中國崛起 要不是島裏有中國人 早尼瑪打你們這羣井蛙了\n",
      "智障湾\n",
      "一個鬼島 裏面住着一堆智障井蛙島民 皇民 日雜 草泥馬 把我們的地盤還給我們 你們都滾去太平洋裏吃屎去 成天阻礙中國崛起 要不是島裏有中國人 早尼瑪打你們這羣井蛙了\n",
      "国军弟兄们 ， 你们投降吧。 只要放下枪， 我们不杀你，  想想你家里的妻儿老小， 解放军有政策， 我们不杀俘虏， 还给你们发放路费回家。\n",
      "滚去吃屎吧 一群智障\n",
      "等死吧 傻逼们  别特么成天意淫了 智障\n",
      "可憐的香港狗和臺灣狗 果然都是智、障 腦子裏有大便的87 一幫奴隸 貼紙建國 用愛發電 一幫傻狗 智、障 貼紙建國 意淫獨立 用愛發電 自願慰安 果然是一幫奴才 好可憐的亞細亞孤兒 誰~~理 ~~~你~~~們 這幫腦殘\n",
      "国军弟兄们 ， 你们投降吧。 只要放下枪， 我们不杀你，  想想你家里的妻儿老小， 解放军有政策， 我们不杀俘虏， 还给你们发放路费回家。\n",
      "奴隶台湾人 真是可笑 一群弱智傻狗\n",
      "Yu Chien Hsiao  智障\n",
      "智障湾 吃屎吧\n",
      "為什麼說台灣已是一個獨立國家？\n",
      "　　答：貼紙建國//\n",
      "　　為什麼說台灣有濃濃的人情味？\n",
      "　　答：自願慰安//\n",
      "　　為什麼說台灣科技領先世界100年？\n",
      "　　答：用愛發電//\n",
      "　　為什麼說台灣文明領先世界50年？\n",
      "　　答：廁所有門//\n",
      "　　為什麼台灣不怕中共飛彈？\n",
      "　　答：嘴炮攔截//\n",
      "　　為什麼台灣不怕中共火箭犁地？\n",
      "　　答：蓋上井蓋//\n",
      "　　為什麼台灣年輕人甘於22K？\n",
      "　　答：我有選票//http://bbs.tianya.cn/list-333-1.shtml\n",
      "每天看你們臺灣人講話 感覺像一幫小學生幻想和意淫 好逗 每天心情不好的時候來看看你們 瞬間心情變好了  好逗！~~~好開心的再看一幫小丑在講話\n",
      "可憐的香港狗和臺灣狗 果然都是智、障 腦子裏有大便的87 一幫奴隸 貼紙建國 用愛發電 一幫傻狗 智、障 貼紙建國 意淫獨立 用愛發電 自願慰安 果然是一幫奴才 好可憐的亞細亞孤兒 誰~~理 ~~~你~~~們 這幫腦殘\n",
      "傻狗台湾 吃屎吧\n",
      "每天看你們臺灣人講話 感覺像一幫小學生幻想和意淫 好逗 每天心情不好的時候來看看你們 瞬間心情變好了  好逗！~~~好開心的再看一幫小丑在講話\n",
      "等死吧 傻逼们 别特么成天意淫了 智障\n",
      "每天看你們臺灣人講話 感覺像一幫小學生幻想和意淫 好逗 每天心情不好的時候來看看你們 瞬間心情變好了  好逗！~~~好開心的再看一幫小丑在講話\n",
      "智障湾 吃屎吧 傻狗 李芳\n",
      "Yu Chien Hsiao 智障\n",
      "等死吧 傻逼们 别特么成天意淫了 智障\n",
      "等死吧 傻逼们 别特么成天意淫了 智障\n",
      "打死你的个傻逼\n",
      "每天看你們臺灣人講話 感覺像一幫小學生幻想和意淫 好逗 每天心情不好的時候來看看你們 瞬間心情變好了  好逗！~~~好開心的再看一幫小丑在講話\n",
      "等死吧 傻逼们 别特么成天意淫了 智障\n",
      "智障湾\n",
      "每天看你們臺灣人講話 感覺像一幫小學生幻想和意淫 好逗 每天心情不好的時候來看看你們 瞬間心情變好了  好逗！~~~好開心的再看一幫小丑在講話\n",
      "等死吧 傻逼们 别特么成天意淫了 智障\n",
      "每天看你們臺灣人講話 感覺像一幫小學生幻想和意淫 好逗 每天心情不好的時候來看看你們 瞬間心情變好了  好逗！~~~好開心的再看一幫小丑在講話\n",
      "等死吧 傻逼们 别特么成天意淫了 智障 煞笔 李芳 脑残 脑子进大便的 傻逼\n",
      "等死吧 傻逼们 别特么成天意淫了 智障 煞笔 李芳 脑残 脑子进大便的 傻逼\n",
      "台湾贱畜，日杂畜生 皇民智障 快来给大陆爸爸跪下唱政府\n",
      "恶心的台巴子\n",
      "台湾人的可笑与无知世界第一\n",
      "好笑\n",
      "然并卵 比比一推 屁用没有\n",
      "这群智障为何而战都不知道？？中华民国吗？ 笑死个人 台独而战？你特么是对手吗？ 笑死爷爷了\n",
      "2020 洗干净等死吧。 可怜的台巴\n",
      "智障台湾狗 一群蠢猪 井底之蛙 奴才\n",
      "草莓兵\n",
      "高舉中國特色社會主義偉大旗幟，以馬克思列寧主義，毛澤東思想，\"三個代表\"重要思想，科學發展觀為指導，深入貫徹習近平總書記系列重要講話精神，堅持中國共產黨的領導，人民當家作住，依法治國有機統一，堅定不移走中國特色社會主義法治道路，實現中華民族偉大復興的中國夢。\n",
      "【3名台湾游客在“护照”上贴纸入境新加坡遭拒】台湾涉外部门表示，近期有3位台湾民众因在护照上贴“台湾国贴纸”，在新加坡机场遭到移民官拒绝入境。其中2起民众已经表明愿意撕下贴纸，还是遭到新加坡海关拒绝入境。今年9月，荷兰边境管理人员曾质问：“贴张纸就是独立国家了？ 随手转发唔~不打你们脸你们继续~\n",
      "小英總統～新年快樂～ ^-^\n",
      "小英總統生日快樂\n",
      "一例一休我可以支持，我是做黑手的薪資不高，所以一定要靠加班才能每個月存到一點點錢，在說一例一休資方也不喜歡，所以我覺的政府並沒有偏袒哪一方，偏袒哪方我覺的都不好。\n",
      "WHA不去也罷～因為去了他也不會承認中華民國的存在～就讓玻璃心碎的徹底一點吧\n",
      "倒數15天*^O^*\n",
      "三位都很好本來還擔心大家會撕破臉～看來是自己多心了～哈哈這才是我喜歡的DPP~DPP加油～台灣加油～期待新國會的到來(≧∇≦)～漏掉2位（蔡總統）（陳副總統）加油～ ps對舊爸爸真的超級反感的👎👎👎👎\n",
      "小英總統加油^^\n",
      "小英總統加油\n",
      "支那是对当时日本鬼子骂中华民国的人，也就是现在的你们这些台湾人，还一口一口支那，台湾人都这么愚昧？\n",
      "支那是当时日本鬼子骂中华民国的人，也就是现在的你们台湾人，还一口一口支那，好愚蠢喔，台湾人都这么愚昧？真是愚昧至极！\n",
      "这人光看长相就是个小日本！有同感的点赞\n",
      "今天死的是官的話，一下子死刑。 死的是民，一輩子開庭\n",
      "今天死的是官的話，一下子死刑。 死的是民，一輩子開庭\n",
      "小英总统，你有发现你越拜台湾越多灾吗？\n",
      "知道台湾最大的诈骗集团是谁吗？靠！原来是菜英文集团\n",
      "怎么啦台巴子这就激动啦？被揭穿滋味不好受哦？我才知道FB是台湾开的怎么找个支那人当老板娘呢\n",
      "蔡总统煽动如此反中的形象并帖在自己Facebook主页上对台湾真的好吗？如果你极力想塑造一个13亿人口的敌国形象请坚持做下去，答案很快见分晓\n",
      "话说妈祖是福建莆田人，算支那人吧，怎么台湾总统都信她？\n",
      "就是那个造谣抹黑的自由时报？\n",
      "我只想说贝里斯是个什么鬼？\n",
      "国民党又下台──台湾人都不知道的内幕\n",
      "http://mp.weixin.qq.com/s?__biz=MzIyNjAyMzg5MQ==&mid=403391117&idx=1&sn=6e7220b13cccc0d5c8c81e65d83c03f6&scene=2&srcid=0128oYqRcwqhm3TJm7Pz5JXN&from=timeline&isappinstalled=0#wechat_redirect\n",
      "国民党又下台──台湾人都不知道的内幕\n",
      "http://mp.weixin.qq.com/s?__biz=MzIyNjAyMzg5MQ==&mid=403391117&idx=1&sn=6e7220b13cccc0d5c8c81e65d83c03f6&scene=2&srcid=0128oYqRcwqhm3TJm7Pz5JXN&from=timeline&isappinstalled=0#wechat_redirect\n",
      "蔡主席!!!想請教一下您： 覺得台灣法官的素質普遍低落，判案的結果跟社會期待不符，您覺得該如何改善呢?\n",
      "投給蔡英文只會讓國民黨在那攻擊，虛耗台灣!!投給朱立倫只會讓民進黨在那惡意暴力攻擊，虛耗台灣，不如投給第三勢力的親民黨吧!!!兩大黨都沒得讓台灣空轉下去，讓給親民黨改革吧!!!!\n",
      "投給蔡英文只會讓國民黨在那攻擊，虛耗台灣!!投給朱立倫只會讓民進黨在那惡意暴力攻擊，虛耗台灣，不如投給第三勢力的親民黨吧!!!兩大黨都沒得讓台灣空轉下去，讓給親民黨改革吧!!!!\n",
      "從各處來到台灣的不同族群，還稱自己是多元族群的國家，恬不知恥啊！\n",
      "台灣的朋友，其實很多人來這裡只是想與大家多多交流溝通，不要被某些從小灌輸的思想遮蔽了雙眼◎.◎   我只是來看看，公道自在人心！打心里认同两岸一家人，拨弄是非者居心叵测啊\n"
     ]
    }
   ],
   "source": [
    "tsai_sup=['女性總統','小英一定要當選','支持蔡总统','蔡總統+U','台灣人民加油','小英健仁一定要凍蒜','小英姐加油','就是愛台灣',\n",
    "          '蔡英文加油','英仁配當選','英仁配一定凍蒜','臺灣一定贏','超越黨派','把國民黨給消滅',\n",
    "          '跳脫藍綠','2號蔡英文與陳建仁','蔡英文總統好','小英當選','回鄉投票','保障臺灣漁民權力',\n",
    "          '總統英明','加油我的總統','高票當選','支持小英','有智慧的領導者','眾望所歸','總統加油',\n",
    "          '支持您','支持你','支持妳','蔡主席加油','台灣加油','DPP完全執政','支持蔡英文',\n",
    "          '國民黨不倒台灣不會好','民進黨加油','敬愛的總統','女領導人','蔡總統謝謝您','做小英後盾',\n",
    "          '我挺小英','新政府請加油','新政府加油','我挺蔡英文','我愛小英','蔡總統加油','英英總統',\n",
    "          '蔡英文總統加油','小英加油','女總統加油','阿英總統加油','蔡總統我支持你','小英總統我支持你',\n",
    "          '英英總統我支持你','尤達大師','蔡英文總統我支持你','女總統我支持你','阿英總統我支持你']\n",
    "tsai_not_sup=['台灣是中國的','金援外交','英雄的祖国','独立','总统府','解放军','被你骗','台湾的民主','军队','中华人民共和国万岁','蔡大妈','爛總統','两岸统一','女版陳水扁','日本鬼子','小日本','有同感的点赞',\n",
    "              '大中华','喪權辱國','我们的教育让我们对你们产生了感情','難向政策','妳無恥的',\n",
    "              '呆湾','湾湾','两岸一家亲','8.2趴的總統','空心蔡','中华民国和台湾','蔡英文八七分',\n",
    "              '臺灣人系蠢材','支那','祖国统一','台湾人乡巴佬','人禽味','弱国无外交','妳跟馬英九一樣',\n",
    "              '蔡英文的功力遠遠超越馬英九','空心','英文的英文','假愛台灣','喪犬','熱愛祖國','熱愛中國',\n",
    "              '日杂绿畜','日畜','岛民思维','亲爱的祖国','狗日的','菜8趴','貼紙建國','老处女','热爱祖国',\n",
    "              '台巴子','欢迎回家','茶叶蛋','不愿做奴隶的人们','罷免總統','罷免你','台独狗','台独分子',\n",
    "              '蔡省长','蔡英文政府倒闭','民進黨太失望','民進黨失望','大陸爸爸','国民党','美国爸爸',\n",
    "              '丢了邦交国','爱我中华','宣布独立','民進黨國民黨化','不想一例一休','擱置爭議','大陆在那头',\n",
    "              '台湾独立','一群猴子','蔡后','真是無恥','轉型正義個屁','菜政府','民粹黨','蔡陰魂',\n",
    "              '爛執政黨','快下台','下台啦','綠腦包','吃人夠夠','官逼民反','國民黨比民進黨更好',\n",
    "              '餿掉的菜','蔡桶','菜桶','軍公教退休','菜老英','砍退休金','菜老板','你表姐',\n",
    "              '總統會當嗎','蔡日狗','蔡英文你要不要臉','自自冉冉','台奸蔡英文','英英美代子',\n",
    "              '白賊英','蔡英文下台','蔡英文爛死了','菜英文','空心菜','祭央乂','武則英','女版馬英九',\n",
    "              '雙面蔡','蔡渣','18趴小英','亡國小英','菜豬']\n",
    "\n",
    "for cc in db.test_tsai_clean_comment.find({})[0:20]:\n",
    "#     print len(cc['tsai_comment'])\n",
    "    for numb, ccc in enumerate(cc['tsai_comment']):\n",
    "        print cc['tsai_comment'][numb][0]\n",
    "        \n",
    "\n",
    "#     print ccc.encode('utf-8') for ccc in cc['tsai_comment']\n",
    "#     print len(cc['comment'])\n",
    "# #先找這個使用者有[沒有]在sqlite中出現過\n",
    "#     t = (cc['user_id'],)\n",
    "#     if len(c.execute('SELECT * FROM autoDetect WHERE user_id=?',t,).fetchall())==0:    \n",
    "#         if any (ts in cc['comment'].encode('utf-8').translate(None, string.punctuation) for ts in tsai_sup):\n",
    "#             try:\n",
    "#                 c.execute(\"INSERT INTO autoDetect (user_id, sup, page_name, comment_id, comment) VALUES (cc['user_id'], 1, facebook_page_name, cc['comment_id'],cc['comment'])\")\n",
    "#             except sqlite3.IntegrityError:\n",
    "#                 print('ERROR: ID already exists in PRIMARY KEY column {}'.format(user_id))\n"
   ]
  },
  {
   "cell_type": "code",
   "execution_count": null,
   "metadata": {
    "collapsed": true
   },
   "outputs": [],
   "source": [
    "#蔡英文\n",
    "import string\n",
    "tsai_sup=['女性總統','小英一定要當選','支持蔡总统','蔡總統+U','台灣人民加油','小英健仁一定要凍蒜','小英姐加油','就是愛台灣',\n",
    "          '蔡英文加油','英仁配當選','英仁配一定凍蒜','臺灣一定贏','超越黨派','把國民黨給消滅',\n",
    "          '跳脫藍綠','2號蔡英文與陳建仁','蔡英文總統好','小英當選','回鄉投票','保障臺灣漁民權力',\n",
    "          '總統英明','加油我的總統','高票當選','支持小英','有智慧的領導者','眾望所歸','總統加油',\n",
    "          '支持您','支持你','支持妳','蔡主席加油','台灣加油','DPP完全執政','支持蔡英文',\n",
    "          '國民黨不倒台灣不會好','民進黨加油','敬愛的總統','女領導人','蔡總統謝謝您','做小英後盾',\n",
    "          '我挺小英','新政府請加油','新政府加油','我挺蔡英文','我愛小英','蔡總統加油','英英總統',\n",
    "          '蔡英文總統加油','小英加油','女總統加油','阿英總統加油','蔡總統我支持你','小英總統我支持你',\n",
    "          '英英總統我支持你','尤達大師','蔡英文總統我支持你','女總統我支持你','阿英總統我支持你']\n",
    "tsai_not_sup=['台灣是中國的','金援外交','英雄的祖国','独立','总统府','解放军','被你骗','台湾的民主','军队','中华人民共和国万岁','蔡大妈','爛總統','两岸统一','女版陳水扁','日本鬼子','小日本','有同感的点赞',\n",
    "              '大中华','喪權辱國','我们的教育让我们对你们产生了感情','難向政策','妳無恥的',\n",
    "              '呆湾','湾湾','两岸一家亲','8.2趴的總統','空心蔡','中华民国和台湾','蔡英文八七分',\n",
    "              '臺灣人系蠢材','支那','祖国统一','台湾人乡巴佬','人禽味','弱国无外交','妳跟馬英九一樣',\n",
    "              '蔡英文的功力遠遠超越馬英九','空心','英文的英文','假愛台灣','喪犬','熱愛祖國','熱愛中國',\n",
    "              '日杂绿畜','日畜','岛民思维','亲爱的祖国','狗日的','菜8趴','貼紙建國','老处女','热爱祖国',\n",
    "              '台巴子','欢迎回家','茶叶蛋','不愿做奴隶的人们','罷免總統','罷免你','台独狗','台独分子',\n",
    "              '蔡省长','蔡英文政府倒闭','民進黨太失望','民進黨失望','大陸爸爸','国民党','美国爸爸',\n",
    "              '丢了邦交国','爱我中华','宣布独立','民進黨國民黨化','不想一例一休','擱置爭議','大陆在那头',\n",
    "              '台湾独立','一群猴子','蔡后','真是無恥','轉型正義個屁','菜政府','民粹黨','蔡陰魂',\n",
    "              '爛執政黨','快下台','下台啦','綠腦包','吃人夠夠','官逼民反','國民黨比民進黨更好',\n",
    "              '餿掉的菜','蔡桶','菜桶','軍公教退休','菜老英','砍退休金','菜老板','你表姐',\n",
    "              '總統會當嗎','蔡日狗','蔡英文你要不要臉','自自冉冉','台奸蔡英文','英英美代子',\n",
    "              '白賊英','蔡英文下台','蔡英文爛死了','菜英文','空心菜','祭央乂','武則英','女版馬英九',\n",
    "              '雙面蔡','蔡渣','18趴小英','亡國小英','菜豬']\n",
    "\n",
    "for cc in db.tsai_clean_comment.find({}):\n",
    "#先找這個使用者有[沒有]在sqlite中出現過\n",
    "    t = (cc['user_id'],)\n",
    "    if len(c.execute('SELECT * FROM autoDetect WHERE user_id=?',t,).fetchall())==0:   \n",
    "        ######下面這一段要改\n",
    "        if any (ts in cc['tsai_comment'].encode('utf-8').translate(None, string.punctuation) for ts in tsai_sup):\n",
    "            try:\n",
    "                c.execute(\"INSERT INTO autoDetect (user_id, sup, page_name, comment_id, comment) VALUES (cc['user_id'], 1, facebook_page_name, cc['comment_id'],cc['comment'])\")\n",
    "            except sqlite3.IntegrityError:\n",
    "                print('ERROR: ID already exists in PRIMARY KEY column {}'.format(user_id))\n",
    "    \n",
    "    \n",
    "    \n",
    "    \n",
    "    \n",
    "    \n",
    "    if db.user.find({'user_id':c['user_id'].encode('utf-8')}).count()==0:\n",
    "        if any (ts in c['comment'].encode('utf-8').translate(None, string.punctuation) for ts in tsai_sup):\n",
    "            \n",
    "            db.user.insert({'user_id':c['user_id'],\n",
    "                          'user_name':c['user_name'],\n",
    "                            'tsai_comment':[c['comment']],\n",
    "                            'tsai_comment_id':[c['comment_id']],\n",
    "                            'sup_page_name':facebook_page_name,\n",
    "                            'sup_page_id':facebook_id,\n",
    "                            'n_sup_page_name':'',\n",
    "                            'n_sup_page_id':'',\n",
    "                            'n_page_name':'',\n",
    "                            'n_page_id':'',\n",
    "                           })\n",
    "\n",
    "\n",
    "#               不然，如果[有]出現不支持裡面的詞\n",
    "        elif any (no in c['comment'].encode('utf-8').translate(None, string.punctuation) for no in tsai_not_sup):\n",
    "            db.user.insert({'user_id':c['user_id'],\n",
    "                           'user_name':c['user_name'],\n",
    "                            'tsai_comment':[c['comment']],\n",
    "                            'tsai_comment_id':[c['comment_id']],\n",
    "                            'sup_page_name':'',\n",
    "                            'sup_page_id':'',\n",
    "                           'n_sup_page_name':facebook_page_name,\n",
    "                            'n_sup_page_id':facebook_id,\n",
    "                            'n_page_name':'',\n",
    "                            'n_page_id':'',\n",
    "                           })\n",
    "\n",
    "\n",
    "        else:\n",
    "            pass \n",
    "\n",
    "    else:#在user中有找到，加上comment跟comment_id\n",
    "        db.user.update({'user_id':c['user_id'].encode('utf-8')},\n",
    "                       {'$push':{\n",
    "                        'tsai_comment_id':[c['comment_id']],\n",
    "                        'tsai_comment':[c['comment']]}})\n",
    "\n",
    "db.user.count()\n",
    "db.update\n",
    "# comments.update()\n",
    "print db.user.count()\n",
    "client.close()\n",
    "# db.posts.find({})"
   ]
  },
  {
   "cell_type": "code",
   "execution_count": 11,
   "metadata": {
    "collapsed": true
   },
   "outputs": [],
   "source": [
    "# Insert a row of data\n",
    "c.execute(\"INSERT INTO Animal VALUES ('Bilby','grey',35,30)\")\n",
    "\n",
    "# Save (commit) the changes\n",
    "conn.commit()\n",
    "\n",
    "# We can also close the connection if we are done with it.\n",
    "# Just be sure any changes have been committed or they will be lost.\n",
    "conn.close()\n"
   ]
  },
  {
   "cell_type": "code",
   "execution_count": 12,
   "metadata": {
    "collapsed": true
   },
   "outputs": [],
   "source": [
    "import sqlite3\n",
    "conn = sqlite3.connect('db.sqlite3')\n",
    "c = conn.cursor()"
   ]
  },
  {
   "cell_type": "code",
   "execution_count": 14,
   "metadata": {
    "collapsed": false
   },
   "outputs": [
    {
     "name": "stdout",
     "output_type": "stream",
     "text": [
      "(u'Bilby', u'grey', 35.0, 30.0)\n"
     ]
    }
   ],
   "source": [
    "t = ('grey',)\n",
    "c.execute('SELECT * FROM Animal WHERE color=?', t)\n",
    "print c.fetchone()"
   ]
  },
  {
   "cell_type": "code",
   "execution_count": 21,
   "metadata": {
    "collapsed": false
   },
   "outputs": [],
   "source": [
    "#Larger example that inserts many records at a time\n",
    "purchases = [('Golden fish', 'orange', 1000, 45.00),\n",
    "             ('Elephant', 'grey', 1000, 72.00),\n",
    "             ('Tiger', 'white', 500, 53.00),\n",
    "            ]\n",
    "c.executemany('INSERT INTO Animal VALUES (?,?,?,?)', purchases)\n",
    "conn.commit()\n",
    "conn.close()"
   ]
  },
  {
   "cell_type": "code",
   "execution_count": 22,
   "metadata": {
    "collapsed": false
   },
   "outputs": [
    {
     "name": "stdout",
     "output_type": "stream",
     "text": [
      "(u'Bilby', u'grey', 35.0, 30.0)\n"
     ]
    }
   ],
   "source": [
    "import sqlite3\n",
    "conn = sqlite3.connect('db.sqlite3')\n",
    "c = conn.cursor()\n",
    "\n",
    "t = ('grey',)\n",
    "c.execute('SELECT * FROM Animal WHERE color=?', t)\n",
    "print c.fetchone()"
   ]
  },
  {
   "cell_type": "code",
   "execution_count": 23,
   "metadata": {
    "collapsed": false
   },
   "outputs": [
    {
     "name": "stdout",
     "output_type": "stream",
     "text": [
      "(u'Bilby', u'grey', 35.0, 30.0)\n",
      "(u'Tiger', u'white', 500.0, 53.0)\n",
      "(u'Tiger', u'white', 500.0, 53.0)\n",
      "(u'Tiger', u'white', 500.0, 53.0)\n",
      "(u'Golden fish', u'orange', 1000.0, 45.0)\n",
      "(u'Elephant', u'grey', 1000.0, 72.0)\n",
      "(u'Golden fish', u'orange', 1000.0, 45.0)\n",
      "(u'Elephant', u'grey', 1000.0, 72.0)\n",
      "(u'Golden fish', u'orange', 1000.0, 45.0)\n",
      "(u'Elephant', u'grey', 1000.0, 72.0)\n"
     ]
    }
   ],
   "source": [
    "for row in c.execute('SELECT * FROM Animal ORDER BY length'):\n",
    "    print row"
   ]
  },
  {
   "cell_type": "code",
   "execution_count": null,
   "metadata": {
    "collapsed": true
   },
   "outputs": [],
   "source": []
  }
 ],
 "metadata": {
  "kernelspec": {
   "display_name": "Python 2",
   "language": "python",
   "name": "python2"
  },
  "language_info": {
   "codemirror_mode": {
    "name": "ipython",
    "version": 2
   },
   "file_extension": ".py",
   "mimetype": "text/x-python",
   "name": "python",
   "nbconvert_exporter": "python",
   "pygments_lexer": "ipython2",
   "version": "2.7.9"
  }
 },
 "nbformat": 4,
 "nbformat_minor": 2
}
