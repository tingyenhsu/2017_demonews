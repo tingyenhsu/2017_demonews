{
 "cells": [
  {
   "cell_type": "markdown",
   "metadata": {},
   "source": [
    "## Documentation: https://docs.python.org/2/library/sqlite3.html\n",
    "#### 為什麼execute只有回傳一個結果？http://stackoverflow.com/questions/20448393/python-2-7-sqlite3-cursor-returns-only-one-result\n",
    "#### another documentation: http://sebastianraschka.com/Articles/2014_sqlite_in_python_tutorial.html\n"
   ]
  },
  {
   "cell_type": "markdown",
   "metadata": {},
   "source": [
    "## 連結sqlite"
   ]
  },
  {
   "cell_type": "code",
   "execution_count": 1,
   "metadata": {
    "collapsed": false
   },
   "outputs": [],
   "source": [
    "import sqlite3\n",
    "con = sqlite3.connect('../thesis/candidate.sqlite3')\n",
    "c = con.cursor()"
   ]
  },
  {
   "cell_type": "code",
   "execution_count": 2,
   "metadata": {
    "collapsed": false
   },
   "outputs": [
    {
     "data": {
      "text/plain": [
       "'3.13.0'"
      ]
     },
     "execution_count": 2,
     "metadata": {},
     "output_type": "execute_result"
    }
   ],
   "source": [
    "sqlite3.sqlite_version"
   ]
  },
  {
   "cell_type": "code",
   "execution_count": 54,
   "metadata": {
    "collapsed": false
   },
   "outputs": [
    {
     "data": {
      "text/plain": [
       "<sqlite3.Cursor at 0x104d9bea0>"
      ]
     },
     "execution_count": 54,
     "metadata": {},
     "output_type": "execute_result"
    }
   ],
   "source": [
    "# 刪除一個資料表\n",
    "con.execute('''DROP TABLE labeling''')"
   ]
  },
  {
   "cell_type": "code",
   "execution_count": 155,
   "metadata": {
    "collapsed": false
   },
   "outputs": [
    {
     "data": {
      "text/plain": [
       "<sqlite3.Cursor at 0x108720ce0>"
      ]
     },
     "execution_count": 155,
     "metadata": {},
     "output_type": "execute_result"
    }
   ],
   "source": [
    "# Create table\n",
    "con.execute('''CREATE TABLE users\n",
    "             (user_id text PRIMARY KEY, \n",
    "             Ke_p_count int,\n",
    "             Ke_n_count int,\n",
    "             Tsai_p_count int,\n",
    "             Tsai_n_count int)''')"
   ]
  },
  {
   "cell_type": "code",
   "execution_count": 16,
   "metadata": {
    "collapsed": true
   },
   "outputs": [],
   "source": [
    "conn.close()"
   ]
  },
  {
   "cell_type": "markdown",
   "metadata": {},
   "source": [
    "## 進行判斷"
   ]
  },
  {
   "cell_type": "code",
   "execution_count": 49,
   "metadata": {
    "collapsed": true
   },
   "outputs": [],
   "source": [
    "#連上mongo\n",
    "import pymongo  #version:3.4.0\n",
    "from pymongo import MongoClient\n",
    "client = pymongo.MongoClient()\n",
    "# from pymongo import Connection\n",
    "# connection = Connection()#這是在自己的本機建的，所以用connection"
   ]
  },
  {
   "cell_type": "code",
   "execution_count": 50,
   "metadata": {
    "collapsed": false
   },
   "outputs": [
    {
     "data": {
      "text/plain": [
       "[u'comments',\n",
       " u'clean_comment',\n",
       " u'pure_ke_clean_comment_copy',\n",
       " u'posts',\n",
       " u'pure_ke_user_copy',\n",
       " u'detector_one_by_one',\n",
       " u'user',\n",
       " u'tsai_clean_comment']"
      ]
     },
     "execution_count": 50,
     "metadata": {},
     "output_type": "execute_result"
    }
   ],
   "source": [
    "db = client.Candidate\n",
    "db.collection_names()"
   ]
  },
  {
   "cell_type": "code",
   "execution_count": 9,
   "metadata": {
    "collapsed": true
   },
   "outputs": [],
   "source": [
    "facebook_id = '46251501064' #Tsai\n",
    "facebook_page_name = 'Tsai'\n",
    "# facebook_id = '136845026417486' #Ke\n",
    "# facebook_page_name = 'Ke'\n",
    "# facebook_id = '188311137478' #ChinaTimes \n",
    "# facebook_page_name = 'ChinaTimes'\n",
    "# facebook_id = '241284961029'\n",
    "# facebook_page_name = 'udn' \n",
    "# facebook_id = '394896373929368' \n",
    "# facebook_page_name = 'ltn' \n",
    "# facebook_id = '232633627068' \n",
    "# facebook_page_name = 'AppleDaily'"
   ]
  },
  {
   "cell_type": "code",
   "execution_count": 4,
   "metadata": {
    "collapsed": false
   },
   "outputs": [
    {
     "name": "stdout",
     "output_type": "stream",
     "text": [
      "429405\n"
     ]
    }
   ],
   "source": [
    "print len(con.execute(\"SELECT * FROM comments WHERE page_name='Tsai' AND DATETIME(post_time) BETWEEN '2015-1-1' AND '2017-12-31'\").fetchall()) "
   ]
  },
  {
   "cell_type": "code",
   "execution_count": 8,
   "metadata": {
    "collapsed": true
   },
   "outputs": [],
   "source": [
    "import string\n",
    "# ke_sup=['柯P辛苦了','柯p辛苦了','柯Ｐ辛苦了','醫龍國','台北有你真好','柯大'\n",
    "#         '柯P好棒','柯p好棒','柯Ｐ好棒','柯P最棒','柯P讚','柯p讚','柯Ｐ讚','市長好棒',\n",
    "#         '謝謝市長','謝謝柯P','謝謝柯p','謝謝柯Ｐ','謝謝柯市長','支持柯','支持市長','支持你連任','連任市長','我們支持你',\n",
    "#         '市長連任','連任成功','台北市需要你','柯阿伯','好市長','愛民如己',\n",
    "#         '市長很棒','雙北市長','總統大位','可以選總統嗎拜託','選總統啦','把你送進總統府','把你送去總統府','前進總統府',\n",
    "#         '白色力量加油','柯Ｐ加油','柯P加油','柯市長加油','柯p加油','市長加油','加油柯市長','加油柯P','愛柯P','市長加油',\n",
    "#        '市府的用心','辛苦了','市長我愛你','加油！柯市長！','柯市長，加油','很棒的市長',\n",
    "#        '務實的市長','👍','生日快樂']\n",
    "# ke_not_sup=['白痴市長','白癡市長','柯屁','嘴砲','眼高手低','土皇帝','柯皇','柯文哲下臺','柯文哲下台',\n",
    "#             '垃圾不分藍綠','柯文哲不要臉','白目的力量','最爛台北市長']\n",
    "\n",
    "tsai_sup=['女性總統','小英一定要當選','支持蔡总统','蔡總統+U','台灣人民加油','小英健仁一定要凍蒜','小英姐加油','就是愛台灣',\n",
    "          '蔡英文加油','英仁配當選','英仁配一定凍蒜','臺灣一定贏','超越黨派','把國民黨給消滅',\n",
    "          '跳脫藍綠','2號蔡英文與陳建仁','蔡英文總統好','小英當選','回鄉投票','保障臺灣漁民權力',\n",
    "          '總統英明','加油我的總統','高票當選','支持小英','有智慧的領導者','眾望所歸','總統加油',\n",
    "          '支持您','支持你','支持妳','蔡主席加油','台灣加油','DPP完全執政','支持蔡英文',\n",
    "          '國民黨不倒台灣不會好','民進黨加油','敬愛的總統','女領導人','蔡總統謝謝您','做小英後盾',\n",
    "          '我挺小英','新政府請加油','新政府加油','我挺蔡英文','我愛小英','蔡總統加油','英英總統',\n",
    "          '蔡英文總統加油','小英加油','女總統加油','阿英總統加油','蔡總統我支持你','小英總統我支持你',\n",
    "          '英英總統我支持你','尤達大師','蔡英文總統我支持你','女總統我支持你','阿英總統我支持你']\n",
    "tsai_not_sup=['台灣是中國的','金援外交','英雄的祖国','独立','总统府','解放军','被你骗','台湾的民主','军队','中华人民共和国万岁','蔡大妈','爛總統','两岸统一','女版陳水扁','日本鬼子','小日本','有同感的点赞',\n",
    "              '大中华','喪權辱國','我们的教育让我们对你们产生了感情','難向政策','妳無恥的',\n",
    "              '呆湾','湾湾','两岸一家亲','8.2趴的總統','空心蔡','中华民国和台湾','蔡英文八七分',\n",
    "              '臺灣人系蠢材','支那','祖国统一','台湾人乡巴佬','人禽味','弱国无外交','妳跟馬英九一樣',\n",
    "              '蔡英文的功力遠遠超越馬英九','空心','英文的英文','假愛台灣','喪犬','熱愛祖國','熱愛中國',\n",
    "              '日杂绿畜','日畜','岛民思维','亲爱的祖国','狗日的','菜8趴','貼紙建國','老处女','热爱祖国',\n",
    "              '台巴子','欢迎回家','茶叶蛋','不愿做奴隶的人们','罷免總統','罷免你','台独狗','台独分子',\n",
    "              '蔡省长','蔡英文政府倒闭','民進黨太失望','民進黨失望','大陸爸爸','国民党','美国爸爸',\n",
    "              '丢了邦交国','爱我中华','宣布独立','民進黨國民黨化','不想一例一休','擱置爭議','大陆在那头',\n",
    "              '台湾独立','一群猴子','蔡后','真是無恥','轉型正義個屁','菜政府','民粹黨','蔡陰魂',\n",
    "              '爛執政黨','快下台','下台啦','綠腦包','吃人夠夠','官逼民反','國民黨比民進黨更好',\n",
    "              '餿掉的菜','蔡桶','菜桶','軍公教退休','菜老英','砍退休金','菜老板','你表姐',\n",
    "              '總統會當嗎','蔡日狗','蔡英文你要不要臉','自自冉冉','台奸蔡英文','英英美代子',\n",
    "              '白賊英','蔡英文下台','蔡英文爛死了','菜英文','空心菜','祭央乂','武則英','女版馬英九',\n",
    "              '雙面蔡','蔡渣','18趴小英','亡國小英','菜豬']"
   ]
  },
  {
   "cell_type": "code",
   "execution_count": 34,
   "metadata": {
    "collapsed": false
   },
   "outputs": [
    {
     "data": {
      "text/plain": [
       "<sqlite3.Cursor at 0x1044df570>"
      ]
     },
     "execution_count": 34,
     "metadata": {},
     "output_type": "execute_result"
    }
   ],
   "source": [
    "# con.execute(\"ALTER TABLE comments ADD Ke_p int\")\n",
    "# con.execute(\"ALTER TABLE comments ADD Ke_n int\")\n"
   ]
  },
  {
   "cell_type": "markdown",
   "metadata": {},
   "source": [
    "## 標記一個，其他自動標記"
   ]
  },
  {
   "cell_type": "code",
   "execution_count": 15,
   "metadata": {
    "collapsed": false
   },
   "outputs": [],
   "source": [
    "for cc in con.execute(\"SELECT * FROM comments WHERE page_name='Tsai' AND DATETIME(post_time) BETWEEN '2015-1-1' AND '2017-12-31'\").fetchall():\n",
    "    ut = (cc[0],) #user_id\n",
    "    # 先找user有沒有出現在tsai_users中\n",
    "    if len(con.execute(\"SELECT user_id FROM tsai_users WHERE user_id=?\",ut).fetchall())==0: #沒有出現過，去判斷留言正負\n",
    "        if any (ts in cc[3].encode('utf-8').translate(None, string.punctuation) for ts in tsai_sup):\n",
    "            #### 用alter table   \n",
    "            try:\n",
    "                row = [cc[0],1,0,]\n",
    "                con.execute(\"INSERT INTO tsai_users (user_id, tsai_p_count, tsai_n_count) VALUES (?,?,?)\",row)\n",
    "            except sqlite3.IntegrityError:\n",
    "                print('ERROR happens in PRIMARY KEY column {}'.format(user_id))    \n",
    "\n",
    "    #               不然，如果[有]出現不支持裡面的詞\n",
    "        elif any (no in cc[3].encode('utf-8').translate(None, string.punctuation) for no in tsai_not_sup):\n",
    "            try:\n",
    "                row = [cc[0],0,1,]\n",
    "                con.execute(\"INSERT INTO tsai_users (user_id, tsai_p_count, tsai_n_count) VALUES (?,?,?)\",row)\n",
    "            except sqlite3.IntegrityError:\n",
    "                print('ERROR happens in PRIMARY KEY column {}'.format(user_id))    \n",
    "        else: #判斷不出來的就跳過\n",
    "            pass\n",
    "        \n",
    "    else: #如果在tsai_users中有找到\n",
    "        for ccc in con.execute(\"SELECT * FROM tsai_users WHERE user_id=?\",ut).fetchall():\n",
    "            ccc[1] #tsai_p_count\n",
    "            ccc[2] #tsai_n_count\n",
    "            if ccc[1]!=0:\n",
    "                con.execute(\"UPDATE tsai_users SET tsai_p_count=? WHERE user_id=?\", (ccc[1]+1,cc[0])) \n",
    "            if ccc[2]!=0: \n",
    "                con.execute(\"UPDATE tsai_users SET tsai_n_count=? WHERE user_id=?\",(ccc[2]+1,cc[0]))\n",
    "            else:\n",
    "                pass\n",
    "                \n",
    "                \n",
    "        \n",
    "\n",
    "con.commit()"
   ]
  },
  {
   "cell_type": "code",
   "execution_count": 55,
   "metadata": {
    "collapsed": false
   },
   "outputs": [
    {
     "data": {
      "text/plain": [
       "<sqlite3.Cursor at 0x104d9b6c0>"
      ]
     },
     "execution_count": 55,
     "metadata": {},
     "output_type": "execute_result"
    }
   ],
   "source": [
    "# Create table 建立給django的table\n",
    "con.execute('''CREATE TABLE labeling\n",
    "             (user_id text,\n",
    "             facebook_id text,\n",
    "             comment text,\n",
    "             comment_id text PRIMARY KEY)''')"
   ]
  },
  {
   "cell_type": "code",
   "execution_count": 56,
   "metadata": {
    "collapsed": false
   },
   "outputs": [],
   "source": [
    "## 把沒有在tsai_users中的寫到另外一個資料表中（labeling）\n",
    "for cc in con.execute(\"SELECT * FROM comments WHERE page_name='Tsai' AND DATETIME(post_time) BETWEEN '2015-1-1' AND '2017-12-31'\").fetchall():\n",
    "    t = (cc[0],)\n",
    "    if len(con.execute(\"SELECT * FROM tsai_users WHERE user_id=?\",t).fetchall())==0:\n",
    "        row = [cc[0],\n",
    "               facebook_id,\n",
    "               cc[3],\n",
    "               cc[2],\n",
    "              ]\n",
    "        con.execute(\"INSERT INTO labeling (user_id, facebook_id, comment, comment_id) VALUES (?,?,?,?)\",row)\n",
    "        \n",
    "con.commit()   "
   ]
  },
  {
   "cell_type": "markdown",
   "metadata": {},
   "source": [
    "## 每個都標記"
   ]
  },
  {
   "cell_type": "code",
   "execution_count": 98,
   "metadata": {
    "collapsed": false
   },
   "outputs": [],
   "source": [
    "for cc in con.execute(\"SELECT * FROM comments WHERE page_name='Ke' AND DATETIME(post_time) BETWEEN '2015-1-1' AND '2017-12-31'\").fetchall():\n",
    "    t = (cc[2],)\n",
    "    if any (ts in cc[3].encode('utf-8').translate(None, string.punctuation) for ts in tsai_sup):\n",
    "        #### 用alter table    \n",
    "        try:\n",
    "            con.execute(\"UPDATE comments SET Ke_p=1 WHERE comment_id=?\",t)\n",
    "        except sqlite3.IntegrityError:\n",
    "            print('ERROR: ID already exists in PRIMARY KEY column {}'.format(user_id))    \n",
    "\n",
    "#               不然，如果[有]出現不支持裡面的詞\n",
    "    elif any (no in cc[3].encode('utf-8').translate(None, string.punctuation) for no in tsai_not_sup):\n",
    "        try:\n",
    "            con.execute(\"UPDATE comments SET Ke_n=1 WHERE comment_id=?\",t)\n",
    "        except sqlite3.IntegrityError:\n",
    "            print('ERROR: ID already exists in PRIMARY KEY column {}'.format(user_id))    \n",
    "    else:\n",
    "        pass\n",
    "\n",
    "con.commit()"
   ]
  },
  {
   "cell_type": "code",
   "execution_count": 120,
   "metadata": {
    "collapsed": false
   },
   "outputs": [],
   "source": [
    "## 把Null的標為0\n",
    "con.execute(\"update comments set Tsai_p = 0 where Tsai_p is null\")\n",
    "con.execute(\"update comments set Ke_p = 0 where Ke_p is null\")\n",
    "con.execute(\"update comments set Ke_n = 0 where Ke_n is null\")\n",
    "con.execute(\"update comments set Tsai_n = 0 where Tsai_n is null\")\n",
    "con.commit()"
   ]
  },
  {
   "cell_type": "code",
   "execution_count": 121,
   "metadata": {
    "collapsed": false
   },
   "outputs": [
    {
     "name": "stdout",
     "output_type": "stream",
     "text": [
      "429405\n",
      "26482\n",
      "20535\n"
     ]
    }
   ],
   "source": [
    "result = con.execute(\"SELECT * FROM comments WHERE page_name='Tsai' AND DATETIME(post_time) BETWEEN '2015-1-1' AND '2017-12-31'\").fetchall()\n",
    "print len(result)\n",
    "# result = con.execute(\"SELECT * FROM comments WHERE Ke_p=1 AND Ke_n=1\").fetchall()\n",
    "# print len(result)\n",
    "result = con.execute(\"SELECT * FROM comments WHERE Tsai_n=1\").fetchall()\n",
    "print len(result)\n",
    "result = con.execute(\"SELECT * FROM comments WHERE Tsai_p=1\").fetchall()\n",
    "print len(result)"
   ]
  },
  {
   "cell_type": "code",
   "execution_count": 122,
   "metadata": {
    "collapsed": false
   },
   "outputs": [
    {
     "name": "stdout",
     "output_type": "stream",
     "text": [
      "[(357527,)]\n",
      "10209995376990992\n"
     ]
    }
   ],
   "source": [
    "## 算總共有幾位使用者\n",
    "result = con.execute(\"SELECT COUNT(DISTINCT user_id) FROM comments\").fetchall()\n",
    "print result\n",
    "result = con.execute(\"SELECT DISTINCT user_id FROM comments\").fetchall()\n",
    "print result[0][0]"
   ]
  },
  {
   "cell_type": "code",
   "execution_count": 152,
   "metadata": {
    "collapsed": false
   },
   "outputs": [],
   "source": [
    "## 把同一個user的算在一起\n",
    "# user = {'user_id':{'Tsai_p':6,'Tsai_n':0,'Ke_p':10,'Ke_n':0}}\n",
    "from collections import Counter\n",
    "user = {}\n",
    "for du in con.execute(\"SELECT * FROM comments\").fetchall():\n",
    "    t = (du[0],)\n",
    "    if not user.has_key(du[0]):\n",
    "        user[du[0]]=Counter({'Tsai_p':du[8],'Tsai_n':du[9],'Ke_p':du[10],'Ke_n':du[11]})\n",
    "\n",
    "    else:\n",
    "        user[du[0]]=Counter(user[du[0]])+Counter({'Tsai_p':du[8],'Tsai_n':du[9],'Ke_p':du[10],'Ke_n':du[11]})"
   ]
  },
  {
   "cell_type": "code",
   "execution_count": 160,
   "metadata": {
    "collapsed": false
   },
   "outputs": [],
   "source": [
    "#### 寫進sqlite，變成user_table\n",
    "for k, cc in user.items(): #each user\n",
    "    row = [ k,\n",
    "            cc['Tsai_p'],\n",
    "            cc['Tsai_n'],\n",
    "            cc['Ke_p'],\n",
    "            cc['Ke_n'],]\n",
    "\n",
    "    try:\n",
    "        con.execute(\"INSERT INTO users (user_id, Tsai_p_count, Tsai_n_count, Ke_p_count, Ke_n_count) VALUES (?,?,?,?,?)\",row)\n",
    "    except sqlite3.IntegrityError:\n",
    "        pass\n",
    "#             print('ERROR: ID already exists in PRIMARY KEY column {}'.format(c['id']))    \n",
    "\n",
    "con.commit()\n",
    "con.close()\n"
   ]
  },
  {
   "cell_type": "code",
   "execution_count": 145,
   "metadata": {
    "collapsed": false
   },
   "outputs": [],
   "source": [
    "#蔡英文 sqlite版本\n",
    "import string\n",
    "tsai_sup=['女性總統','小英一定要當選','支持蔡总统','蔡總統+U','台灣人民加油','小英健仁一定要凍蒜','小英姐加油','就是愛台灣',\n",
    "          '蔡英文加油','英仁配當選','英仁配一定凍蒜','臺灣一定贏','超越黨派','把國民黨給消滅',\n",
    "          '跳脫藍綠','2號蔡英文與陳建仁','蔡英文總統好','小英當選','回鄉投票','保障臺灣漁民權力',\n",
    "          '總統英明','加油我的總統','高票當選','支持小英','有智慧的領導者','眾望所歸','總統加油',\n",
    "          '支持您','支持你','支持妳','蔡主席加油','台灣加油','DPP完全執政','支持蔡英文',\n",
    "          '國民黨不倒台灣不會好','民進黨加油','敬愛的總統','女領導人','蔡總統謝謝您','做小英後盾',\n",
    "          '我挺小英','新政府請加油','新政府加油','我挺蔡英文','我愛小英','蔡總統加油','英英總統',\n",
    "          '蔡英文總統加油','小英加油','女總統加油','阿英總統加油','蔡總統我支持你','小英總統我支持你',\n",
    "          '英英總統我支持你','尤達大師','蔡英文總統我支持你','女總統我支持你','阿英總統我支持你']\n",
    "tsai_not_sup=['台灣是中國的','金援外交','英雄的祖国','独立','总统府','解放军','被你骗','台湾的民主','军队','中华人民共和国万岁','蔡大妈','爛總統','两岸统一','女版陳水扁','日本鬼子','小日本','有同感的点赞',\n",
    "              '大中华','喪權辱國','我们的教育让我们对你们产生了感情','難向政策','妳無恥的',\n",
    "              '呆湾','湾湾','两岸一家亲','8.2趴的總統','空心蔡','中华民国和台湾','蔡英文八七分',\n",
    "              '臺灣人系蠢材','支那','祖国统一','台湾人乡巴佬','人禽味','弱国无外交','妳跟馬英九一樣',\n",
    "              '蔡英文的功力遠遠超越馬英九','空心','英文的英文','假愛台灣','喪犬','熱愛祖國','熱愛中國',\n",
    "              '日杂绿畜','日畜','岛民思维','亲爱的祖国','狗日的','菜8趴','貼紙建國','老处女','热爱祖国',\n",
    "              '台巴子','欢迎回家','茶叶蛋','不愿做奴隶的人们','罷免總統','罷免你','台独狗','台独分子',\n",
    "              '蔡省长','蔡英文政府倒闭','民進黨太失望','民進黨失望','大陸爸爸','国民党','美国爸爸',\n",
    "              '丢了邦交国','爱我中华','宣布独立','民進黨國民黨化','不想一例一休','擱置爭議','大陆在那头',\n",
    "              '台湾独立','一群猴子','蔡后','真是無恥','轉型正義個屁','菜政府','民粹黨','蔡陰魂',\n",
    "              '爛執政黨','快下台','下台啦','綠腦包','吃人夠夠','官逼民反','國民黨比民進黨更好',\n",
    "              '餿掉的菜','蔡桶','菜桶','軍公教退休','菜老英','砍退休金','菜老板','你表姐',\n",
    "              '總統會當嗎','蔡日狗','蔡英文你要不要臉','自自冉冉','台奸蔡英文','英英美代子',\n",
    "              '白賊英','蔡英文下台','蔡英文爛死了','菜英文','空心菜','祭央乂','武則英','女版馬英九',\n",
    "              '雙面蔡','蔡渣','18趴小英','亡國小英','菜豬']\n",
    "\n",
    "for cc in db.tsai_clean_comment.find({}):\n",
    "#先找這個使用者有[沒有]在sqlite中出現過\n",
    "#     t = (cc['user_id'],)\n",
    "#     if len(c.execute('SELECT * FROM autoDetect WHERE user_id=?',t,).fetchall())==0:   \n",
    "    for numb, ccc in enumerate(cc['tsai_comment']):\n",
    "        if any (ts in cc['tsai_comment'][numb][0].encode('utf-8').translate(None, string.punctuation) for ts in tsai_sup):\n",
    "            row = [ cc['user_id'],\n",
    "                     1,\n",
    "                     facebook_page_name]\n",
    "#                      cc['tsai_comment_id'][numb][0],\n",
    "#                      cc['tsai_comment'][numb][0]]\n",
    "            try:\n",
    "                c.execute(\"INSERT INTO autoDetect (user_id, sup, page_name) VALUES (?,?,?)\",row)\n",
    "            except sqlite3.IntegrityError:\n",
    "                print('ERROR: ID already exists in PRIMARY KEY column {}'.format(user_id))    \n",
    "\n",
    "#               不然，如果[有]出現不支持裡面的詞\n",
    "        elif any (no in cc['tsai_comment'][numb][0].encode('utf-8').translate(None, string.punctuation) for no in tsai_not_sup):\n",
    "            row = [ cc['user_id'],\n",
    "                     0,\n",
    "                     facebook_page_name]\n",
    "#                      cc['tsai_comment_id'][numb][0],\n",
    "#                      cc['tsai_comment'][numb][0]]\n",
    "\n",
    "            try:\n",
    "                c.execute(\"INSERT INTO autoDetect (user_id, sup, page_name) VALUES (?,?,?)\",row)\n",
    "            except sqlite3.IntegrityError:\n",
    "                print('ERROR: ID already exists in PRIMARY KEY column {}'.format(user_id))    \n",
    "\n",
    "\n",
    "#     else:#在sqlite中有找到，加上comment跟comment_id\n",
    "#         c.execute(\"UPDATE autoDetect SET comment_id=(cc['tsai_comment_id'][numb][0]),comment=(cc['tsai_comment'][numb][0]) WHERE user_id=(cc['user_id'])\")\n",
    "\n",
    "conn.commit()\n",
    "conn.close()"
   ]
  },
  {
   "cell_type": "code",
   "execution_count": 11,
   "metadata": {
    "collapsed": true
   },
   "outputs": [],
   "source": [
    "# Insert a row of data\n",
    "c.execute(\"INSERT INTO Animal VALUES ('Bilby','grey',35,30)\")\n",
    "\n",
    "# Save (commit) the changes\n",
    "conn.commit()\n",
    "\n",
    "# We can also close the connection if we are done with it.\n",
    "# Just be sure any changes have been committed or they will be lost.\n",
    "conn.close()\n"
   ]
  },
  {
   "cell_type": "code",
   "execution_count": null,
   "metadata": {
    "collapsed": true
   },
   "outputs": [],
   "source": []
  }
 ],
 "metadata": {
  "kernelspec": {
   "display_name": "Python 2",
   "language": "python",
   "name": "python2"
  },
  "language_info": {
   "codemirror_mode": {
    "name": "ipython",
    "version": 2
   },
   "file_extension": ".py",
   "mimetype": "text/x-python",
   "name": "python",
   "nbconvert_exporter": "python",
   "pygments_lexer": "ipython2",
   "version": "2.7.9"
  }
 },
 "nbformat": 4,
 "nbformat_minor": 2
}
